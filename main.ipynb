{
  "nbformat": 4,
  "nbformat_minor": 0,
  "metadata": {
    "colab": {
      "provenance": []
    },
    "kernelspec": {
      "name": "python3",
      "display_name": "Python 3"
    },
    "language_info": {
      "name": "python"
    }
  },
  "cells": [
    {
      "cell_type": "markdown",
      "source": [
        "#References\n",
        "This notebook can be seen as my implementation of the methods introduced by the following scientific papers:\n",
        "* \"From Group to Individual Labels using Deep Features\"\n",
        "* \"BERT: Pre-training of Deep Bidirectional Transformers for\n",
        "Language Understanding\"\n",
        "\n",
        "In addition to the papers the following tutorial was beneficial:\n",
        "* https://www.analyticsvidhya.com/blog/2022/01/sentiment-analysis-with-lstm/\n",
        "\n",
        "Note that the theoritical aspects i used are derived from the above papers.\n",
        "\n",
        "#Overview\n",
        "In this notebook we'll build a model for sentiment analysis, we'll test variety of models to get the best possible model. In this notebook we'll be using the correct methodology for a classification driven data mining project, in addition we'll explain every step to get some intuition behind each step.\n",
        "We'll use a robust method to fight label noise problem that can occur in the instance level classification cases.\n",
        "\n",
        "In order to demonstrate the approach validity, we'll experement it using these three large review data sets:\n",
        "* Movie reviews from IMDB.\n",
        "* Restaurant reviews from Yelp\n",
        "* Product reviews from Amazon.\n",
        "\n",
        "## Importing necessery libraries"
      ],
      "metadata": {
        "id": "p_ebYH1opr6S"
      }
    },
    {
      "cell_type": "code",
      "source": [
        "from google.colab import drive\n",
        "drive.mount('/content/drive')"
      ],
      "metadata": {
        "colab": {
          "base_uri": "https://localhost:8080/"
        },
        "id": "D8QFCNqT0JZP",
        "outputId": "9f257f8d-1b4b-480c-e2d5-974c45470876"
      },
      "execution_count": 2,
      "outputs": [
        {
          "output_type": "stream",
          "name": "stdout",
          "text": [
            "Drive already mounted at /content/drive; to attempt to forcibly remount, call drive.mount(\"/content/drive\", force_remount=True).\n"
          ]
        }
      ]
    },
    {
      "cell_type": "code",
      "source": [
        "%cd /content/drive/MyDrive/Data"
      ],
      "metadata": {
        "id": "PeLUcaH22AVf",
        "colab": {
          "base_uri": "https://localhost:8080/"
        },
        "outputId": "b98ffd8d-68c6-401e-cd7a-7dd66f63e357"
      },
      "execution_count": 3,
      "outputs": [
        {
          "output_type": "stream",
          "name": "stdout",
          "text": [
            "/content/drive/MyDrive/Data\n"
          ]
        }
      ]
    },
    {
      "cell_type": "code",
      "source": [
        "!ls"
      ],
      "metadata": {
        "colab": {
          "base_uri": "https://localhost:8080/"
        },
        "id": "o4I_-KVf8lcr",
        "outputId": "5bbc2688-0bc1-4b30-e315-d2ba1fb53dc7"
      },
      "execution_count": 4,
      "outputs": [
        {
          "output_type": "stream",
          "name": "stdout",
          "text": [
            "amazon_cells_labelled.txt  imdb_labelled.txt  yelp_labelled.txt\n"
          ]
        }
      ]
    },
    {
      "cell_type": "code",
      "source": [
        "import warnings\n",
        "warnings.filterwarnings(\"ignore\")"
      ],
      "metadata": {
        "id": "VsqIuSOAxHP1"
      },
      "execution_count": 5,
      "outputs": []
    },
    {
      "cell_type": "code",
      "execution_count": 101,
      "metadata": {
        "id": "H-n-a3VVIHMl"
      },
      "outputs": [],
      "source": [
        "import numpy as np\n",
        "import pandas as pd\n",
        "import matplotlib.pyplot as plt\n",
        "%matplotlib inline\n",
        "from sklearn.feature_extraction.text import CountVectorizer\n",
        "from sklearn.model_selection import train_test_split\n",
        "from sklearn.linear_model import LogisticRegression\n",
        "import tensorflow as tf\n",
        "from tensorflow.keras.preprocessing.text import Tokenizer\n",
        "from tensorflow.keras.preprocessing.sequence import pad_sequences\n",
        "from tensorflow.keras.models import Sequential\n",
        "from tensorflow.keras import layers\n",
        "from tensorflow.keras.layers import Bidirectional, LSTM, Dense"
      ]
    },
    {
      "cell_type": "markdown",
      "source": [
        "## Exploratory Data Analysis\n",
        "\n",
        "This section is going to contain simple code to understand data to get confortable with what we're working on.\n",
        "\n",
        "First we'll construct thee pandas data frames from the data we have"
      ],
      "metadata": {
        "id": "hiXZDaox9VPj"
      }
    },
    {
      "cell_type": "code",
      "source": [
        "imdb_data = pd.read_csv(\"imdb_labelled.txt\", delimiter='\\t', header=None, names=[\"text\", \"sentiment\"])\n",
        "yelp_data = pd.read_csv(\"yelp_labelled.txt\", delimiter='\\t', header=None, names=[\"text\", \"sentiment\"])\n",
        "amazon_data = pd.read_csv(\"amazon_cells_labelled.txt\", delimiter='\\t', header=None, names=[\"text\", \"sentiment\"])"
      ],
      "metadata": {
        "id": "gxKIAdXswJrT"
      },
      "execution_count": 7,
      "outputs": []
    },
    {
      "cell_type": "code",
      "source": [
        "imdb_data.head()"
      ],
      "metadata": {
        "id": "udFbYUQ04QRK",
        "colab": {
          "base_uri": "https://localhost:8080/",
          "height": 206
        },
        "outputId": "3a5ad3f0-0d43-4cbe-94cf-361d8326ed4f"
      },
      "execution_count": 8,
      "outputs": [
        {
          "output_type": "execute_result",
          "data": {
            "text/plain": [
              "                                                text  sentiment\n",
              "0  A very, very, very slow-moving, aimless movie ...          0\n",
              "1  Not sure who was more lost - the flat characte...          0\n",
              "2  Attempting artiness with black & white and cle...          0\n",
              "3       Very little music or anything to speak of.            0\n",
              "4  The best scene in the movie was when Gerardo i...          1"
            ],
            "text/html": [
              "\n",
              "  <div id=\"df-caa96b8a-8c30-4c2f-a5fc-eeb09611c393\" class=\"colab-df-container\">\n",
              "    <div>\n",
              "<style scoped>\n",
              "    .dataframe tbody tr th:only-of-type {\n",
              "        vertical-align: middle;\n",
              "    }\n",
              "\n",
              "    .dataframe tbody tr th {\n",
              "        vertical-align: top;\n",
              "    }\n",
              "\n",
              "    .dataframe thead th {\n",
              "        text-align: right;\n",
              "    }\n",
              "</style>\n",
              "<table border=\"1\" class=\"dataframe\">\n",
              "  <thead>\n",
              "    <tr style=\"text-align: right;\">\n",
              "      <th></th>\n",
              "      <th>text</th>\n",
              "      <th>sentiment</th>\n",
              "    </tr>\n",
              "  </thead>\n",
              "  <tbody>\n",
              "    <tr>\n",
              "      <th>0</th>\n",
              "      <td>A very, very, very slow-moving, aimless movie ...</td>\n",
              "      <td>0</td>\n",
              "    </tr>\n",
              "    <tr>\n",
              "      <th>1</th>\n",
              "      <td>Not sure who was more lost - the flat characte...</td>\n",
              "      <td>0</td>\n",
              "    </tr>\n",
              "    <tr>\n",
              "      <th>2</th>\n",
              "      <td>Attempting artiness with black &amp; white and cle...</td>\n",
              "      <td>0</td>\n",
              "    </tr>\n",
              "    <tr>\n",
              "      <th>3</th>\n",
              "      <td>Very little music or anything to speak of.</td>\n",
              "      <td>0</td>\n",
              "    </tr>\n",
              "    <tr>\n",
              "      <th>4</th>\n",
              "      <td>The best scene in the movie was when Gerardo i...</td>\n",
              "      <td>1</td>\n",
              "    </tr>\n",
              "  </tbody>\n",
              "</table>\n",
              "</div>\n",
              "    <div class=\"colab-df-buttons\">\n",
              "\n",
              "  <div class=\"colab-df-container\">\n",
              "    <button class=\"colab-df-convert\" onclick=\"convertToInteractive('df-caa96b8a-8c30-4c2f-a5fc-eeb09611c393')\"\n",
              "            title=\"Convert this dataframe to an interactive table.\"\n",
              "            style=\"display:none;\">\n",
              "\n",
              "  <svg xmlns=\"http://www.w3.org/2000/svg\" height=\"24px\" viewBox=\"0 -960 960 960\">\n",
              "    <path d=\"M120-120v-720h720v720H120Zm60-500h600v-160H180v160Zm220 220h160v-160H400v160Zm0 220h160v-160H400v160ZM180-400h160v-160H180v160Zm440 0h160v-160H620v160ZM180-180h160v-160H180v160Zm440 0h160v-160H620v160Z\"/>\n",
              "  </svg>\n",
              "    </button>\n",
              "\n",
              "  <style>\n",
              "    .colab-df-container {\n",
              "      display:flex;\n",
              "      gap: 12px;\n",
              "    }\n",
              "\n",
              "    .colab-df-convert {\n",
              "      background-color: #E8F0FE;\n",
              "      border: none;\n",
              "      border-radius: 50%;\n",
              "      cursor: pointer;\n",
              "      display: none;\n",
              "      fill: #1967D2;\n",
              "      height: 32px;\n",
              "      padding: 0 0 0 0;\n",
              "      width: 32px;\n",
              "    }\n",
              "\n",
              "    .colab-df-convert:hover {\n",
              "      background-color: #E2EBFA;\n",
              "      box-shadow: 0px 1px 2px rgba(60, 64, 67, 0.3), 0px 1px 3px 1px rgba(60, 64, 67, 0.15);\n",
              "      fill: #174EA6;\n",
              "    }\n",
              "\n",
              "    .colab-df-buttons div {\n",
              "      margin-bottom: 4px;\n",
              "    }\n",
              "\n",
              "    [theme=dark] .colab-df-convert {\n",
              "      background-color: #3B4455;\n",
              "      fill: #D2E3FC;\n",
              "    }\n",
              "\n",
              "    [theme=dark] .colab-df-convert:hover {\n",
              "      background-color: #434B5C;\n",
              "      box-shadow: 0px 1px 3px 1px rgba(0, 0, 0, 0.15);\n",
              "      filter: drop-shadow(0px 1px 2px rgba(0, 0, 0, 0.3));\n",
              "      fill: #FFFFFF;\n",
              "    }\n",
              "  </style>\n",
              "\n",
              "    <script>\n",
              "      const buttonEl =\n",
              "        document.querySelector('#df-caa96b8a-8c30-4c2f-a5fc-eeb09611c393 button.colab-df-convert');\n",
              "      buttonEl.style.display =\n",
              "        google.colab.kernel.accessAllowed ? 'block' : 'none';\n",
              "\n",
              "      async function convertToInteractive(key) {\n",
              "        const element = document.querySelector('#df-caa96b8a-8c30-4c2f-a5fc-eeb09611c393');\n",
              "        const dataTable =\n",
              "          await google.colab.kernel.invokeFunction('convertToInteractive',\n",
              "                                                    [key], {});\n",
              "        if (!dataTable) return;\n",
              "\n",
              "        const docLinkHtml = 'Like what you see? Visit the ' +\n",
              "          '<a target=\"_blank\" href=https://colab.research.google.com/notebooks/data_table.ipynb>data table notebook</a>'\n",
              "          + ' to learn more about interactive tables.';\n",
              "        element.innerHTML = '';\n",
              "        dataTable['output_type'] = 'display_data';\n",
              "        await google.colab.output.renderOutput(dataTable, element);\n",
              "        const docLink = document.createElement('div');\n",
              "        docLink.innerHTML = docLinkHtml;\n",
              "        element.appendChild(docLink);\n",
              "      }\n",
              "    </script>\n",
              "  </div>\n",
              "\n",
              "\n",
              "<div id=\"df-15a56073-4874-4e08-a794-34494758ee2c\">\n",
              "  <button class=\"colab-df-quickchart\" onclick=\"quickchart('df-15a56073-4874-4e08-a794-34494758ee2c')\"\n",
              "            title=\"Suggest charts\"\n",
              "            style=\"display:none;\">\n",
              "\n",
              "<svg xmlns=\"http://www.w3.org/2000/svg\" height=\"24px\"viewBox=\"0 0 24 24\"\n",
              "     width=\"24px\">\n",
              "    <g>\n",
              "        <path d=\"M19 3H5c-1.1 0-2 .9-2 2v14c0 1.1.9 2 2 2h14c1.1 0 2-.9 2-2V5c0-1.1-.9-2-2-2zM9 17H7v-7h2v7zm4 0h-2V7h2v10zm4 0h-2v-4h2v4z\"/>\n",
              "    </g>\n",
              "</svg>\n",
              "  </button>\n",
              "\n",
              "<style>\n",
              "  .colab-df-quickchart {\n",
              "      --bg-color: #E8F0FE;\n",
              "      --fill-color: #1967D2;\n",
              "      --hover-bg-color: #E2EBFA;\n",
              "      --hover-fill-color: #174EA6;\n",
              "      --disabled-fill-color: #AAA;\n",
              "      --disabled-bg-color: #DDD;\n",
              "  }\n",
              "\n",
              "  [theme=dark] .colab-df-quickchart {\n",
              "      --bg-color: #3B4455;\n",
              "      --fill-color: #D2E3FC;\n",
              "      --hover-bg-color: #434B5C;\n",
              "      --hover-fill-color: #FFFFFF;\n",
              "      --disabled-bg-color: #3B4455;\n",
              "      --disabled-fill-color: #666;\n",
              "  }\n",
              "\n",
              "  .colab-df-quickchart {\n",
              "    background-color: var(--bg-color);\n",
              "    border: none;\n",
              "    border-radius: 50%;\n",
              "    cursor: pointer;\n",
              "    display: none;\n",
              "    fill: var(--fill-color);\n",
              "    height: 32px;\n",
              "    padding: 0;\n",
              "    width: 32px;\n",
              "  }\n",
              "\n",
              "  .colab-df-quickchart:hover {\n",
              "    background-color: var(--hover-bg-color);\n",
              "    box-shadow: 0 1px 2px rgba(60, 64, 67, 0.3), 0 1px 3px 1px rgba(60, 64, 67, 0.15);\n",
              "    fill: var(--button-hover-fill-color);\n",
              "  }\n",
              "\n",
              "  .colab-df-quickchart-complete:disabled,\n",
              "  .colab-df-quickchart-complete:disabled:hover {\n",
              "    background-color: var(--disabled-bg-color);\n",
              "    fill: var(--disabled-fill-color);\n",
              "    box-shadow: none;\n",
              "  }\n",
              "\n",
              "  .colab-df-spinner {\n",
              "    border: 2px solid var(--fill-color);\n",
              "    border-color: transparent;\n",
              "    border-bottom-color: var(--fill-color);\n",
              "    animation:\n",
              "      spin 1s steps(1) infinite;\n",
              "  }\n",
              "\n",
              "  @keyframes spin {\n",
              "    0% {\n",
              "      border-color: transparent;\n",
              "      border-bottom-color: var(--fill-color);\n",
              "      border-left-color: var(--fill-color);\n",
              "    }\n",
              "    20% {\n",
              "      border-color: transparent;\n",
              "      border-left-color: var(--fill-color);\n",
              "      border-top-color: var(--fill-color);\n",
              "    }\n",
              "    30% {\n",
              "      border-color: transparent;\n",
              "      border-left-color: var(--fill-color);\n",
              "      border-top-color: var(--fill-color);\n",
              "      border-right-color: var(--fill-color);\n",
              "    }\n",
              "    40% {\n",
              "      border-color: transparent;\n",
              "      border-right-color: var(--fill-color);\n",
              "      border-top-color: var(--fill-color);\n",
              "    }\n",
              "    60% {\n",
              "      border-color: transparent;\n",
              "      border-right-color: var(--fill-color);\n",
              "    }\n",
              "    80% {\n",
              "      border-color: transparent;\n",
              "      border-right-color: var(--fill-color);\n",
              "      border-bottom-color: var(--fill-color);\n",
              "    }\n",
              "    90% {\n",
              "      border-color: transparent;\n",
              "      border-bottom-color: var(--fill-color);\n",
              "    }\n",
              "  }\n",
              "</style>\n",
              "\n",
              "  <script>\n",
              "    async function quickchart(key) {\n",
              "      const quickchartButtonEl =\n",
              "        document.querySelector('#' + key + ' button');\n",
              "      quickchartButtonEl.disabled = true;  // To prevent multiple clicks.\n",
              "      quickchartButtonEl.classList.add('colab-df-spinner');\n",
              "      try {\n",
              "        const charts = await google.colab.kernel.invokeFunction(\n",
              "            'suggestCharts', [key], {});\n",
              "      } catch (error) {\n",
              "        console.error('Error during call to suggestCharts:', error);\n",
              "      }\n",
              "      quickchartButtonEl.classList.remove('colab-df-spinner');\n",
              "      quickchartButtonEl.classList.add('colab-df-quickchart-complete');\n",
              "    }\n",
              "    (() => {\n",
              "      let quickchartButtonEl =\n",
              "        document.querySelector('#df-15a56073-4874-4e08-a794-34494758ee2c button');\n",
              "      quickchartButtonEl.style.display =\n",
              "        google.colab.kernel.accessAllowed ? 'block' : 'none';\n",
              "    })();\n",
              "  </script>\n",
              "</div>\n",
              "\n",
              "    </div>\n",
              "  </div>\n"
            ],
            "application/vnd.google.colaboratory.intrinsic+json": {
              "type": "dataframe",
              "variable_name": "imdb_data",
              "summary": "{\n  \"name\": \"imdb_data\",\n  \"rows\": 748,\n  \"fields\": [\n    {\n      \"column\": \"text\",\n      \"properties\": {\n        \"dtype\": \"string\",\n        \"num_unique_values\": 745,\n        \"samples\": [\n          \"I couldn't take them seriously.  \",\n          \"This gets a 1 out of 10, simply because there's nothing lower.  \",\n          \"I hate movies like that.  \"\n        ],\n        \"semantic_type\": \"\",\n        \"description\": \"\"\n      }\n    },\n    {\n      \"column\": \"sentiment\",\n      \"properties\": {\n        \"dtype\": \"number\",\n        \"std\": 0,\n        \"min\": 0,\n        \"max\": 1,\n        \"num_unique_values\": 2,\n        \"samples\": [\n          1,\n          0\n        ],\n        \"semantic_type\": \"\",\n        \"description\": \"\"\n      }\n    }\n  ]\n}"
            }
          },
          "metadata": {},
          "execution_count": 8
        }
      ]
    },
    {
      "cell_type": "markdown",
      "source": [
        "Let's explore primarly our data, we can do that by displaying the first raw of each dataset."
      ],
      "metadata": {
        "id": "Wj9Cx9Wg8-Ms"
      }
    },
    {
      "cell_type": "code",
      "source": [
        "yelp_data.head()"
      ],
      "metadata": {
        "colab": {
          "base_uri": "https://localhost:8080/",
          "height": 206
        },
        "id": "FyAXyqJe9GaA",
        "outputId": "5c59a737-2542-4c75-9d17-d6c6a5d65349"
      },
      "execution_count": 9,
      "outputs": [
        {
          "output_type": "execute_result",
          "data": {
            "text/plain": [
              "                                                text  sentiment\n",
              "0                           Wow... Loved this place.          1\n",
              "1                                 Crust is not good.          0\n",
              "2          Not tasty and the texture was just nasty.          0\n",
              "3  Stopped by during the late May bank holiday of...          1\n",
              "4  The selection on the menu was great and so wer...          1"
            ],
            "text/html": [
              "\n",
              "  <div id=\"df-a840b7a4-9f9d-460e-a21d-da8523b54bba\" class=\"colab-df-container\">\n",
              "    <div>\n",
              "<style scoped>\n",
              "    .dataframe tbody tr th:only-of-type {\n",
              "        vertical-align: middle;\n",
              "    }\n",
              "\n",
              "    .dataframe tbody tr th {\n",
              "        vertical-align: top;\n",
              "    }\n",
              "\n",
              "    .dataframe thead th {\n",
              "        text-align: right;\n",
              "    }\n",
              "</style>\n",
              "<table border=\"1\" class=\"dataframe\">\n",
              "  <thead>\n",
              "    <tr style=\"text-align: right;\">\n",
              "      <th></th>\n",
              "      <th>text</th>\n",
              "      <th>sentiment</th>\n",
              "    </tr>\n",
              "  </thead>\n",
              "  <tbody>\n",
              "    <tr>\n",
              "      <th>0</th>\n",
              "      <td>Wow... Loved this place.</td>\n",
              "      <td>1</td>\n",
              "    </tr>\n",
              "    <tr>\n",
              "      <th>1</th>\n",
              "      <td>Crust is not good.</td>\n",
              "      <td>0</td>\n",
              "    </tr>\n",
              "    <tr>\n",
              "      <th>2</th>\n",
              "      <td>Not tasty and the texture was just nasty.</td>\n",
              "      <td>0</td>\n",
              "    </tr>\n",
              "    <tr>\n",
              "      <th>3</th>\n",
              "      <td>Stopped by during the late May bank holiday of...</td>\n",
              "      <td>1</td>\n",
              "    </tr>\n",
              "    <tr>\n",
              "      <th>4</th>\n",
              "      <td>The selection on the menu was great and so wer...</td>\n",
              "      <td>1</td>\n",
              "    </tr>\n",
              "  </tbody>\n",
              "</table>\n",
              "</div>\n",
              "    <div class=\"colab-df-buttons\">\n",
              "\n",
              "  <div class=\"colab-df-container\">\n",
              "    <button class=\"colab-df-convert\" onclick=\"convertToInteractive('df-a840b7a4-9f9d-460e-a21d-da8523b54bba')\"\n",
              "            title=\"Convert this dataframe to an interactive table.\"\n",
              "            style=\"display:none;\">\n",
              "\n",
              "  <svg xmlns=\"http://www.w3.org/2000/svg\" height=\"24px\" viewBox=\"0 -960 960 960\">\n",
              "    <path d=\"M120-120v-720h720v720H120Zm60-500h600v-160H180v160Zm220 220h160v-160H400v160Zm0 220h160v-160H400v160ZM180-400h160v-160H180v160Zm440 0h160v-160H620v160ZM180-180h160v-160H180v160Zm440 0h160v-160H620v160Z\"/>\n",
              "  </svg>\n",
              "    </button>\n",
              "\n",
              "  <style>\n",
              "    .colab-df-container {\n",
              "      display:flex;\n",
              "      gap: 12px;\n",
              "    }\n",
              "\n",
              "    .colab-df-convert {\n",
              "      background-color: #E8F0FE;\n",
              "      border: none;\n",
              "      border-radius: 50%;\n",
              "      cursor: pointer;\n",
              "      display: none;\n",
              "      fill: #1967D2;\n",
              "      height: 32px;\n",
              "      padding: 0 0 0 0;\n",
              "      width: 32px;\n",
              "    }\n",
              "\n",
              "    .colab-df-convert:hover {\n",
              "      background-color: #E2EBFA;\n",
              "      box-shadow: 0px 1px 2px rgba(60, 64, 67, 0.3), 0px 1px 3px 1px rgba(60, 64, 67, 0.15);\n",
              "      fill: #174EA6;\n",
              "    }\n",
              "\n",
              "    .colab-df-buttons div {\n",
              "      margin-bottom: 4px;\n",
              "    }\n",
              "\n",
              "    [theme=dark] .colab-df-convert {\n",
              "      background-color: #3B4455;\n",
              "      fill: #D2E3FC;\n",
              "    }\n",
              "\n",
              "    [theme=dark] .colab-df-convert:hover {\n",
              "      background-color: #434B5C;\n",
              "      box-shadow: 0px 1px 3px 1px rgba(0, 0, 0, 0.15);\n",
              "      filter: drop-shadow(0px 1px 2px rgba(0, 0, 0, 0.3));\n",
              "      fill: #FFFFFF;\n",
              "    }\n",
              "  </style>\n",
              "\n",
              "    <script>\n",
              "      const buttonEl =\n",
              "        document.querySelector('#df-a840b7a4-9f9d-460e-a21d-da8523b54bba button.colab-df-convert');\n",
              "      buttonEl.style.display =\n",
              "        google.colab.kernel.accessAllowed ? 'block' : 'none';\n",
              "\n",
              "      async function convertToInteractive(key) {\n",
              "        const element = document.querySelector('#df-a840b7a4-9f9d-460e-a21d-da8523b54bba');\n",
              "        const dataTable =\n",
              "          await google.colab.kernel.invokeFunction('convertToInteractive',\n",
              "                                                    [key], {});\n",
              "        if (!dataTable) return;\n",
              "\n",
              "        const docLinkHtml = 'Like what you see? Visit the ' +\n",
              "          '<a target=\"_blank\" href=https://colab.research.google.com/notebooks/data_table.ipynb>data table notebook</a>'\n",
              "          + ' to learn more about interactive tables.';\n",
              "        element.innerHTML = '';\n",
              "        dataTable['output_type'] = 'display_data';\n",
              "        await google.colab.output.renderOutput(dataTable, element);\n",
              "        const docLink = document.createElement('div');\n",
              "        docLink.innerHTML = docLinkHtml;\n",
              "        element.appendChild(docLink);\n",
              "      }\n",
              "    </script>\n",
              "  </div>\n",
              "\n",
              "\n",
              "<div id=\"df-a62df0a3-76bf-4a05-a96e-1c87b805510c\">\n",
              "  <button class=\"colab-df-quickchart\" onclick=\"quickchart('df-a62df0a3-76bf-4a05-a96e-1c87b805510c')\"\n",
              "            title=\"Suggest charts\"\n",
              "            style=\"display:none;\">\n",
              "\n",
              "<svg xmlns=\"http://www.w3.org/2000/svg\" height=\"24px\"viewBox=\"0 0 24 24\"\n",
              "     width=\"24px\">\n",
              "    <g>\n",
              "        <path d=\"M19 3H5c-1.1 0-2 .9-2 2v14c0 1.1.9 2 2 2h14c1.1 0 2-.9 2-2V5c0-1.1-.9-2-2-2zM9 17H7v-7h2v7zm4 0h-2V7h2v10zm4 0h-2v-4h2v4z\"/>\n",
              "    </g>\n",
              "</svg>\n",
              "  </button>\n",
              "\n",
              "<style>\n",
              "  .colab-df-quickchart {\n",
              "      --bg-color: #E8F0FE;\n",
              "      --fill-color: #1967D2;\n",
              "      --hover-bg-color: #E2EBFA;\n",
              "      --hover-fill-color: #174EA6;\n",
              "      --disabled-fill-color: #AAA;\n",
              "      --disabled-bg-color: #DDD;\n",
              "  }\n",
              "\n",
              "  [theme=dark] .colab-df-quickchart {\n",
              "      --bg-color: #3B4455;\n",
              "      --fill-color: #D2E3FC;\n",
              "      --hover-bg-color: #434B5C;\n",
              "      --hover-fill-color: #FFFFFF;\n",
              "      --disabled-bg-color: #3B4455;\n",
              "      --disabled-fill-color: #666;\n",
              "  }\n",
              "\n",
              "  .colab-df-quickchart {\n",
              "    background-color: var(--bg-color);\n",
              "    border: none;\n",
              "    border-radius: 50%;\n",
              "    cursor: pointer;\n",
              "    display: none;\n",
              "    fill: var(--fill-color);\n",
              "    height: 32px;\n",
              "    padding: 0;\n",
              "    width: 32px;\n",
              "  }\n",
              "\n",
              "  .colab-df-quickchart:hover {\n",
              "    background-color: var(--hover-bg-color);\n",
              "    box-shadow: 0 1px 2px rgba(60, 64, 67, 0.3), 0 1px 3px 1px rgba(60, 64, 67, 0.15);\n",
              "    fill: var(--button-hover-fill-color);\n",
              "  }\n",
              "\n",
              "  .colab-df-quickchart-complete:disabled,\n",
              "  .colab-df-quickchart-complete:disabled:hover {\n",
              "    background-color: var(--disabled-bg-color);\n",
              "    fill: var(--disabled-fill-color);\n",
              "    box-shadow: none;\n",
              "  }\n",
              "\n",
              "  .colab-df-spinner {\n",
              "    border: 2px solid var(--fill-color);\n",
              "    border-color: transparent;\n",
              "    border-bottom-color: var(--fill-color);\n",
              "    animation:\n",
              "      spin 1s steps(1) infinite;\n",
              "  }\n",
              "\n",
              "  @keyframes spin {\n",
              "    0% {\n",
              "      border-color: transparent;\n",
              "      border-bottom-color: var(--fill-color);\n",
              "      border-left-color: var(--fill-color);\n",
              "    }\n",
              "    20% {\n",
              "      border-color: transparent;\n",
              "      border-left-color: var(--fill-color);\n",
              "      border-top-color: var(--fill-color);\n",
              "    }\n",
              "    30% {\n",
              "      border-color: transparent;\n",
              "      border-left-color: var(--fill-color);\n",
              "      border-top-color: var(--fill-color);\n",
              "      border-right-color: var(--fill-color);\n",
              "    }\n",
              "    40% {\n",
              "      border-color: transparent;\n",
              "      border-right-color: var(--fill-color);\n",
              "      border-top-color: var(--fill-color);\n",
              "    }\n",
              "    60% {\n",
              "      border-color: transparent;\n",
              "      border-right-color: var(--fill-color);\n",
              "    }\n",
              "    80% {\n",
              "      border-color: transparent;\n",
              "      border-right-color: var(--fill-color);\n",
              "      border-bottom-color: var(--fill-color);\n",
              "    }\n",
              "    90% {\n",
              "      border-color: transparent;\n",
              "      border-bottom-color: var(--fill-color);\n",
              "    }\n",
              "  }\n",
              "</style>\n",
              "\n",
              "  <script>\n",
              "    async function quickchart(key) {\n",
              "      const quickchartButtonEl =\n",
              "        document.querySelector('#' + key + ' button');\n",
              "      quickchartButtonEl.disabled = true;  // To prevent multiple clicks.\n",
              "      quickchartButtonEl.classList.add('colab-df-spinner');\n",
              "      try {\n",
              "        const charts = await google.colab.kernel.invokeFunction(\n",
              "            'suggestCharts', [key], {});\n",
              "      } catch (error) {\n",
              "        console.error('Error during call to suggestCharts:', error);\n",
              "      }\n",
              "      quickchartButtonEl.classList.remove('colab-df-spinner');\n",
              "      quickchartButtonEl.classList.add('colab-df-quickchart-complete');\n",
              "    }\n",
              "    (() => {\n",
              "      let quickchartButtonEl =\n",
              "        document.querySelector('#df-a62df0a3-76bf-4a05-a96e-1c87b805510c button');\n",
              "      quickchartButtonEl.style.display =\n",
              "        google.colab.kernel.accessAllowed ? 'block' : 'none';\n",
              "    })();\n",
              "  </script>\n",
              "</div>\n",
              "\n",
              "    </div>\n",
              "  </div>\n"
            ],
            "application/vnd.google.colaboratory.intrinsic+json": {
              "type": "dataframe",
              "variable_name": "yelp_data",
              "summary": "{\n  \"name\": \"yelp_data\",\n  \"rows\": 1000,\n  \"fields\": [\n    {\n      \"column\": \"text\",\n      \"properties\": {\n        \"dtype\": \"string\",\n        \"num_unique_values\": 996,\n        \"samples\": [\n          \"They were excellent.\",\n          \"Your servers suck, wait, correction, our server Heimer sucked.\",\n          \"Will be back again!\"\n        ],\n        \"semantic_type\": \"\",\n        \"description\": \"\"\n      }\n    },\n    {\n      \"column\": \"sentiment\",\n      \"properties\": {\n        \"dtype\": \"number\",\n        \"std\": 0,\n        \"min\": 0,\n        \"max\": 1,\n        \"num_unique_values\": 2,\n        \"samples\": [\n          0,\n          1\n        ],\n        \"semantic_type\": \"\",\n        \"description\": \"\"\n      }\n    }\n  ]\n}"
            }
          },
          "metadata": {},
          "execution_count": 9
        }
      ]
    },
    {
      "cell_type": "code",
      "source": [
        "amazon_data.head()"
      ],
      "metadata": {
        "colab": {
          "base_uri": "https://localhost:8080/",
          "height": 206
        },
        "id": "LDhZ1hos9LSA",
        "outputId": "368ccc66-f1b3-46c6-aedd-35b6d7d9bfe4"
      },
      "execution_count": 23,
      "outputs": [
        {
          "output_type": "execute_result",
          "data": {
            "text/plain": [
              "                                                text  sentiment\n",
              "0  So there is no way for me to plug it in here i...          0\n",
              "1                        Good case, Excellent value.          1\n",
              "2                             Great for the jawbone.          1\n",
              "3  Tied to charger for conversations lasting more...          0\n",
              "4                                  The mic is great.          1"
            ],
            "text/html": [
              "\n",
              "  <div id=\"df-3887e4aa-cf5e-4722-a60a-f7122544ad53\" class=\"colab-df-container\">\n",
              "    <div>\n",
              "<style scoped>\n",
              "    .dataframe tbody tr th:only-of-type {\n",
              "        vertical-align: middle;\n",
              "    }\n",
              "\n",
              "    .dataframe tbody tr th {\n",
              "        vertical-align: top;\n",
              "    }\n",
              "\n",
              "    .dataframe thead th {\n",
              "        text-align: right;\n",
              "    }\n",
              "</style>\n",
              "<table border=\"1\" class=\"dataframe\">\n",
              "  <thead>\n",
              "    <tr style=\"text-align: right;\">\n",
              "      <th></th>\n",
              "      <th>text</th>\n",
              "      <th>sentiment</th>\n",
              "    </tr>\n",
              "  </thead>\n",
              "  <tbody>\n",
              "    <tr>\n",
              "      <th>0</th>\n",
              "      <td>So there is no way for me to plug it in here i...</td>\n",
              "      <td>0</td>\n",
              "    </tr>\n",
              "    <tr>\n",
              "      <th>1</th>\n",
              "      <td>Good case, Excellent value.</td>\n",
              "      <td>1</td>\n",
              "    </tr>\n",
              "    <tr>\n",
              "      <th>2</th>\n",
              "      <td>Great for the jawbone.</td>\n",
              "      <td>1</td>\n",
              "    </tr>\n",
              "    <tr>\n",
              "      <th>3</th>\n",
              "      <td>Tied to charger for conversations lasting more...</td>\n",
              "      <td>0</td>\n",
              "    </tr>\n",
              "    <tr>\n",
              "      <th>4</th>\n",
              "      <td>The mic is great.</td>\n",
              "      <td>1</td>\n",
              "    </tr>\n",
              "  </tbody>\n",
              "</table>\n",
              "</div>\n",
              "    <div class=\"colab-df-buttons\">\n",
              "\n",
              "  <div class=\"colab-df-container\">\n",
              "    <button class=\"colab-df-convert\" onclick=\"convertToInteractive('df-3887e4aa-cf5e-4722-a60a-f7122544ad53')\"\n",
              "            title=\"Convert this dataframe to an interactive table.\"\n",
              "            style=\"display:none;\">\n",
              "\n",
              "  <svg xmlns=\"http://www.w3.org/2000/svg\" height=\"24px\" viewBox=\"0 -960 960 960\">\n",
              "    <path d=\"M120-120v-720h720v720H120Zm60-500h600v-160H180v160Zm220 220h160v-160H400v160Zm0 220h160v-160H400v160ZM180-400h160v-160H180v160Zm440 0h160v-160H620v160ZM180-180h160v-160H180v160Zm440 0h160v-160H620v160Z\"/>\n",
              "  </svg>\n",
              "    </button>\n",
              "\n",
              "  <style>\n",
              "    .colab-df-container {\n",
              "      display:flex;\n",
              "      gap: 12px;\n",
              "    }\n",
              "\n",
              "    .colab-df-convert {\n",
              "      background-color: #E8F0FE;\n",
              "      border: none;\n",
              "      border-radius: 50%;\n",
              "      cursor: pointer;\n",
              "      display: none;\n",
              "      fill: #1967D2;\n",
              "      height: 32px;\n",
              "      padding: 0 0 0 0;\n",
              "      width: 32px;\n",
              "    }\n",
              "\n",
              "    .colab-df-convert:hover {\n",
              "      background-color: #E2EBFA;\n",
              "      box-shadow: 0px 1px 2px rgba(60, 64, 67, 0.3), 0px 1px 3px 1px rgba(60, 64, 67, 0.15);\n",
              "      fill: #174EA6;\n",
              "    }\n",
              "\n",
              "    .colab-df-buttons div {\n",
              "      margin-bottom: 4px;\n",
              "    }\n",
              "\n",
              "    [theme=dark] .colab-df-convert {\n",
              "      background-color: #3B4455;\n",
              "      fill: #D2E3FC;\n",
              "    }\n",
              "\n",
              "    [theme=dark] .colab-df-convert:hover {\n",
              "      background-color: #434B5C;\n",
              "      box-shadow: 0px 1px 3px 1px rgba(0, 0, 0, 0.15);\n",
              "      filter: drop-shadow(0px 1px 2px rgba(0, 0, 0, 0.3));\n",
              "      fill: #FFFFFF;\n",
              "    }\n",
              "  </style>\n",
              "\n",
              "    <script>\n",
              "      const buttonEl =\n",
              "        document.querySelector('#df-3887e4aa-cf5e-4722-a60a-f7122544ad53 button.colab-df-convert');\n",
              "      buttonEl.style.display =\n",
              "        google.colab.kernel.accessAllowed ? 'block' : 'none';\n",
              "\n",
              "      async function convertToInteractive(key) {\n",
              "        const element = document.querySelector('#df-3887e4aa-cf5e-4722-a60a-f7122544ad53');\n",
              "        const dataTable =\n",
              "          await google.colab.kernel.invokeFunction('convertToInteractive',\n",
              "                                                    [key], {});\n",
              "        if (!dataTable) return;\n",
              "\n",
              "        const docLinkHtml = 'Like what you see? Visit the ' +\n",
              "          '<a target=\"_blank\" href=https://colab.research.google.com/notebooks/data_table.ipynb>data table notebook</a>'\n",
              "          + ' to learn more about interactive tables.';\n",
              "        element.innerHTML = '';\n",
              "        dataTable['output_type'] = 'display_data';\n",
              "        await google.colab.output.renderOutput(dataTable, element);\n",
              "        const docLink = document.createElement('div');\n",
              "        docLink.innerHTML = docLinkHtml;\n",
              "        element.appendChild(docLink);\n",
              "      }\n",
              "    </script>\n",
              "  </div>\n",
              "\n",
              "\n",
              "<div id=\"df-585d78a7-e7ad-40bf-ba19-0bc43a55ea11\">\n",
              "  <button class=\"colab-df-quickchart\" onclick=\"quickchart('df-585d78a7-e7ad-40bf-ba19-0bc43a55ea11')\"\n",
              "            title=\"Suggest charts\"\n",
              "            style=\"display:none;\">\n",
              "\n",
              "<svg xmlns=\"http://www.w3.org/2000/svg\" height=\"24px\"viewBox=\"0 0 24 24\"\n",
              "     width=\"24px\">\n",
              "    <g>\n",
              "        <path d=\"M19 3H5c-1.1 0-2 .9-2 2v14c0 1.1.9 2 2 2h14c1.1 0 2-.9 2-2V5c0-1.1-.9-2-2-2zM9 17H7v-7h2v7zm4 0h-2V7h2v10zm4 0h-2v-4h2v4z\"/>\n",
              "    </g>\n",
              "</svg>\n",
              "  </button>\n",
              "\n",
              "<style>\n",
              "  .colab-df-quickchart {\n",
              "      --bg-color: #E8F0FE;\n",
              "      --fill-color: #1967D2;\n",
              "      --hover-bg-color: #E2EBFA;\n",
              "      --hover-fill-color: #174EA6;\n",
              "      --disabled-fill-color: #AAA;\n",
              "      --disabled-bg-color: #DDD;\n",
              "  }\n",
              "\n",
              "  [theme=dark] .colab-df-quickchart {\n",
              "      --bg-color: #3B4455;\n",
              "      --fill-color: #D2E3FC;\n",
              "      --hover-bg-color: #434B5C;\n",
              "      --hover-fill-color: #FFFFFF;\n",
              "      --disabled-bg-color: #3B4455;\n",
              "      --disabled-fill-color: #666;\n",
              "  }\n",
              "\n",
              "  .colab-df-quickchart {\n",
              "    background-color: var(--bg-color);\n",
              "    border: none;\n",
              "    border-radius: 50%;\n",
              "    cursor: pointer;\n",
              "    display: none;\n",
              "    fill: var(--fill-color);\n",
              "    height: 32px;\n",
              "    padding: 0;\n",
              "    width: 32px;\n",
              "  }\n",
              "\n",
              "  .colab-df-quickchart:hover {\n",
              "    background-color: var(--hover-bg-color);\n",
              "    box-shadow: 0 1px 2px rgba(60, 64, 67, 0.3), 0 1px 3px 1px rgba(60, 64, 67, 0.15);\n",
              "    fill: var(--button-hover-fill-color);\n",
              "  }\n",
              "\n",
              "  .colab-df-quickchart-complete:disabled,\n",
              "  .colab-df-quickchart-complete:disabled:hover {\n",
              "    background-color: var(--disabled-bg-color);\n",
              "    fill: var(--disabled-fill-color);\n",
              "    box-shadow: none;\n",
              "  }\n",
              "\n",
              "  .colab-df-spinner {\n",
              "    border: 2px solid var(--fill-color);\n",
              "    border-color: transparent;\n",
              "    border-bottom-color: var(--fill-color);\n",
              "    animation:\n",
              "      spin 1s steps(1) infinite;\n",
              "  }\n",
              "\n",
              "  @keyframes spin {\n",
              "    0% {\n",
              "      border-color: transparent;\n",
              "      border-bottom-color: var(--fill-color);\n",
              "      border-left-color: var(--fill-color);\n",
              "    }\n",
              "    20% {\n",
              "      border-color: transparent;\n",
              "      border-left-color: var(--fill-color);\n",
              "      border-top-color: var(--fill-color);\n",
              "    }\n",
              "    30% {\n",
              "      border-color: transparent;\n",
              "      border-left-color: var(--fill-color);\n",
              "      border-top-color: var(--fill-color);\n",
              "      border-right-color: var(--fill-color);\n",
              "    }\n",
              "    40% {\n",
              "      border-color: transparent;\n",
              "      border-right-color: var(--fill-color);\n",
              "      border-top-color: var(--fill-color);\n",
              "    }\n",
              "    60% {\n",
              "      border-color: transparent;\n",
              "      border-right-color: var(--fill-color);\n",
              "    }\n",
              "    80% {\n",
              "      border-color: transparent;\n",
              "      border-right-color: var(--fill-color);\n",
              "      border-bottom-color: var(--fill-color);\n",
              "    }\n",
              "    90% {\n",
              "      border-color: transparent;\n",
              "      border-bottom-color: var(--fill-color);\n",
              "    }\n",
              "  }\n",
              "</style>\n",
              "\n",
              "  <script>\n",
              "    async function quickchart(key) {\n",
              "      const quickchartButtonEl =\n",
              "        document.querySelector('#' + key + ' button');\n",
              "      quickchartButtonEl.disabled = true;  // To prevent multiple clicks.\n",
              "      quickchartButtonEl.classList.add('colab-df-spinner');\n",
              "      try {\n",
              "        const charts = await google.colab.kernel.invokeFunction(\n",
              "            'suggestCharts', [key], {});\n",
              "      } catch (error) {\n",
              "        console.error('Error during call to suggestCharts:', error);\n",
              "      }\n",
              "      quickchartButtonEl.classList.remove('colab-df-spinner');\n",
              "      quickchartButtonEl.classList.add('colab-df-quickchart-complete');\n",
              "    }\n",
              "    (() => {\n",
              "      let quickchartButtonEl =\n",
              "        document.querySelector('#df-585d78a7-e7ad-40bf-ba19-0bc43a55ea11 button');\n",
              "      quickchartButtonEl.style.display =\n",
              "        google.colab.kernel.accessAllowed ? 'block' : 'none';\n",
              "    })();\n",
              "  </script>\n",
              "</div>\n",
              "\n",
              "    </div>\n",
              "  </div>\n"
            ],
            "application/vnd.google.colaboratory.intrinsic+json": {
              "type": "dataframe",
              "variable_name": "amazon_data",
              "summary": "{\n  \"name\": \"amazon_data\",\n  \"rows\": 1000,\n  \"fields\": [\n    {\n      \"column\": \"text\",\n      \"properties\": {\n        \"dtype\": \"string\",\n        \"num_unique_values\": 990,\n        \"samples\": [\n          \"The range is very decent, I've been able to roam around my house with the phone in the living room with no reception/sound quality issues.\",\n          \"The reception is excellent!\",\n          \"I would have given no star if I was able.\"\n        ],\n        \"semantic_type\": \"\",\n        \"description\": \"\"\n      }\n    },\n    {\n      \"column\": \"sentiment\",\n      \"properties\": {\n        \"dtype\": \"number\",\n        \"std\": 0,\n        \"min\": 0,\n        \"max\": 1,\n        \"num_unique_values\": 2,\n        \"samples\": [\n          1,\n          0\n        ],\n        \"semantic_type\": \"\",\n        \"description\": \"\"\n      }\n    }\n  ]\n}"
            }
          },
          "metadata": {},
          "execution_count": 23
        }
      ]
    },
    {
      "cell_type": "markdown",
      "source": [
        "It's worth taking time to ask some relevant questions about our data. This is going to make the project more fluid and the data understanding more straightforward."
      ],
      "metadata": {
        "id": "4SFdONmgn3lr"
      }
    },
    {
      "cell_type": "code",
      "source": [
        "Datasets = {\"Imdb\": imdb_data, \"Amazon\": amazon_data, \"Yelp\": yelp_data}"
      ],
      "metadata": {
        "id": "_lZCIGtr9NhH"
      },
      "execution_count": 18,
      "outputs": []
    },
    {
      "cell_type": "code",
      "source": [
        "def Data_Info(Datasets):\n",
        "  for Dataset in Datasets:\n",
        "    print(\"Size of the \" + Dataset + \"Dataset is: \"+ str(Datasets[Dataset].shape[0]))\n",
        "    print(Datasets[Dataset].info(), \"\\n\")\n",
        "  for Dataset in Datasets:\n",
        "    print(\"Missing values for \", Dataset, \": \\n\", Datasets[Dataset].isna().sum())\n",
        "Data_Info(Datasets=Datasets)"
      ],
      "metadata": {
        "colab": {
          "base_uri": "https://localhost:8080/"
        },
        "id": "iVOQL1jIo2me",
        "outputId": "8f1c1a30-21b3-4717-8e44-7f4115215a2c"
      },
      "execution_count": 32,
      "outputs": [
        {
          "output_type": "stream",
          "name": "stdout",
          "text": [
            "Size of the ImdbDataset is: 748\n",
            "<class 'pandas.core.frame.DataFrame'>\n",
            "RangeIndex: 748 entries, 0 to 747\n",
            "Data columns (total 2 columns):\n",
            " #   Column     Non-Null Count  Dtype \n",
            "---  ------     --------------  ----- \n",
            " 0   text       748 non-null    object\n",
            " 1   sentiment  748 non-null    int64 \n",
            "dtypes: int64(1), object(1)\n",
            "memory usage: 11.8+ KB\n",
            "None \n",
            "\n",
            "Size of the AmazonDataset is: 1000\n",
            "<class 'pandas.core.frame.DataFrame'>\n",
            "RangeIndex: 1000 entries, 0 to 999\n",
            "Data columns (total 2 columns):\n",
            " #   Column     Non-Null Count  Dtype \n",
            "---  ------     --------------  ----- \n",
            " 0   text       1000 non-null   object\n",
            " 1   sentiment  1000 non-null   int64 \n",
            "dtypes: int64(1), object(1)\n",
            "memory usage: 15.8+ KB\n",
            "None \n",
            "\n",
            "Size of the YelpDataset is: 1000\n",
            "<class 'pandas.core.frame.DataFrame'>\n",
            "RangeIndex: 1000 entries, 0 to 999\n",
            "Data columns (total 2 columns):\n",
            " #   Column     Non-Null Count  Dtype \n",
            "---  ------     --------------  ----- \n",
            " 0   text       1000 non-null   object\n",
            " 1   sentiment  1000 non-null   int64 \n",
            "dtypes: int64(1), object(1)\n",
            "memory usage: 15.8+ KB\n",
            "None \n",
            "\n",
            "Missing values for  Imdb : \n",
            " text         0\n",
            "sentiment    0\n",
            "dtype: int64\n",
            "Missing values for  Amazon : \n",
            " text         0\n",
            "sentiment    0\n",
            "dtype: int64\n",
            "Missing values for  Yelp : \n",
            " text         0\n",
            "sentiment    0\n",
            "dtype: int64\n"
          ]
        }
      ]
    },
    {
      "cell_type": "markdown",
      "source": [
        "You see, luckily for us, there 're not any missing values. Another beneficial trick we can do is to see the statistical properties of our data."
      ],
      "metadata": {
        "id": "Iqe-Xrwoq_tW"
      }
    },
    {
      "cell_type": "code",
      "source": [
        "for dataset in Datasets:\n",
        "  print(\"Some Statistical properties of \"+ str(dataset) +\": \\n\")\n",
        "  print(str(Datasets[dataset].describe()))"
      ],
      "metadata": {
        "colab": {
          "base_uri": "https://localhost:8080/"
        },
        "id": "PuCEOGFsqCA0",
        "outputId": "dca8b77f-94bf-47d7-e769-72fc50f9e5dc"
      },
      "execution_count": 29,
      "outputs": [
        {
          "output_type": "stream",
          "name": "stdout",
          "text": [
            "Some Statistical properties of Imdb: \n",
            "\n",
            "        sentiment\n",
            "count  748.000000\n",
            "mean     0.516043\n",
            "std      0.500077\n",
            "min      0.000000\n",
            "25%      0.000000\n",
            "50%      1.000000\n",
            "75%      1.000000\n",
            "max      1.000000\n",
            "Some Statistical properties of Amazon: \n",
            "\n",
            "        sentiment\n",
            "count  1000.00000\n",
            "mean      0.50000\n",
            "std       0.50025\n",
            "min       0.00000\n",
            "25%       0.00000\n",
            "50%       0.50000\n",
            "75%       1.00000\n",
            "max       1.00000\n",
            "Some Statistical properties of Yelp: \n",
            "\n",
            "        sentiment\n",
            "count  1000.00000\n",
            "mean      0.50000\n",
            "std       0.50025\n",
            "min       0.00000\n",
            "25%       0.00000\n",
            "50%       0.50000\n",
            "75%       1.00000\n",
            "max       1.00000\n"
          ]
        }
      ]
    },
    {
      "cell_type": "markdown",
      "source": [
        "You have to know that we'll train our model on the whole data so let's build a pandas dataframe containing all data."
      ],
      "metadata": {
        "id": "g1ZwaUt5uvg_"
      }
    },
    {
      "cell_type": "code",
      "source": [
        "amazon_data[\"source\"] = \"amazon\"\n",
        "imdb_data[\"source\"] = \"imdb\"\n",
        "yelp_data[\"source\"] = \"yelp\""
      ],
      "metadata": {
        "id": "FBoypVyivdFV"
      },
      "execution_count": 36,
      "outputs": []
    },
    {
      "cell_type": "code",
      "source": [
        "data = pd.concat(list(Datasets.values()))\n",
        "data.head()"
      ],
      "metadata": {
        "colab": {
          "base_uri": "https://localhost:8080/",
          "height": 206
        },
        "id": "70EDhOWnsJOi",
        "outputId": "8608c2a2-91ac-4c6b-d093-58d0d5e8021d"
      },
      "execution_count": 37,
      "outputs": [
        {
          "output_type": "execute_result",
          "data": {
            "text/plain": [
              "                                                text  sentiment source\n",
              "0  A very, very, very slow-moving, aimless movie ...          0   imdb\n",
              "1  Not sure who was more lost - the flat characte...          0   imdb\n",
              "2  Attempting artiness with black & white and cle...          0   imdb\n",
              "3       Very little music or anything to speak of.            0   imdb\n",
              "4  The best scene in the movie was when Gerardo i...          1   imdb"
            ],
            "text/html": [
              "\n",
              "  <div id=\"df-a5d49677-d90d-4e8e-9608-9f24da8dff6e\" class=\"colab-df-container\">\n",
              "    <div>\n",
              "<style scoped>\n",
              "    .dataframe tbody tr th:only-of-type {\n",
              "        vertical-align: middle;\n",
              "    }\n",
              "\n",
              "    .dataframe tbody tr th {\n",
              "        vertical-align: top;\n",
              "    }\n",
              "\n",
              "    .dataframe thead th {\n",
              "        text-align: right;\n",
              "    }\n",
              "</style>\n",
              "<table border=\"1\" class=\"dataframe\">\n",
              "  <thead>\n",
              "    <tr style=\"text-align: right;\">\n",
              "      <th></th>\n",
              "      <th>text</th>\n",
              "      <th>sentiment</th>\n",
              "      <th>source</th>\n",
              "    </tr>\n",
              "  </thead>\n",
              "  <tbody>\n",
              "    <tr>\n",
              "      <th>0</th>\n",
              "      <td>A very, very, very slow-moving, aimless movie ...</td>\n",
              "      <td>0</td>\n",
              "      <td>imdb</td>\n",
              "    </tr>\n",
              "    <tr>\n",
              "      <th>1</th>\n",
              "      <td>Not sure who was more lost - the flat characte...</td>\n",
              "      <td>0</td>\n",
              "      <td>imdb</td>\n",
              "    </tr>\n",
              "    <tr>\n",
              "      <th>2</th>\n",
              "      <td>Attempting artiness with black &amp; white and cle...</td>\n",
              "      <td>0</td>\n",
              "      <td>imdb</td>\n",
              "    </tr>\n",
              "    <tr>\n",
              "      <th>3</th>\n",
              "      <td>Very little music or anything to speak of.</td>\n",
              "      <td>0</td>\n",
              "      <td>imdb</td>\n",
              "    </tr>\n",
              "    <tr>\n",
              "      <th>4</th>\n",
              "      <td>The best scene in the movie was when Gerardo i...</td>\n",
              "      <td>1</td>\n",
              "      <td>imdb</td>\n",
              "    </tr>\n",
              "  </tbody>\n",
              "</table>\n",
              "</div>\n",
              "    <div class=\"colab-df-buttons\">\n",
              "\n",
              "  <div class=\"colab-df-container\">\n",
              "    <button class=\"colab-df-convert\" onclick=\"convertToInteractive('df-a5d49677-d90d-4e8e-9608-9f24da8dff6e')\"\n",
              "            title=\"Convert this dataframe to an interactive table.\"\n",
              "            style=\"display:none;\">\n",
              "\n",
              "  <svg xmlns=\"http://www.w3.org/2000/svg\" height=\"24px\" viewBox=\"0 -960 960 960\">\n",
              "    <path d=\"M120-120v-720h720v720H120Zm60-500h600v-160H180v160Zm220 220h160v-160H400v160Zm0 220h160v-160H400v160ZM180-400h160v-160H180v160Zm440 0h160v-160H620v160ZM180-180h160v-160H180v160Zm440 0h160v-160H620v160Z\"/>\n",
              "  </svg>\n",
              "    </button>\n",
              "\n",
              "  <style>\n",
              "    .colab-df-container {\n",
              "      display:flex;\n",
              "      gap: 12px;\n",
              "    }\n",
              "\n",
              "    .colab-df-convert {\n",
              "      background-color: #E8F0FE;\n",
              "      border: none;\n",
              "      border-radius: 50%;\n",
              "      cursor: pointer;\n",
              "      display: none;\n",
              "      fill: #1967D2;\n",
              "      height: 32px;\n",
              "      padding: 0 0 0 0;\n",
              "      width: 32px;\n",
              "    }\n",
              "\n",
              "    .colab-df-convert:hover {\n",
              "      background-color: #E2EBFA;\n",
              "      box-shadow: 0px 1px 2px rgba(60, 64, 67, 0.3), 0px 1px 3px 1px rgba(60, 64, 67, 0.15);\n",
              "      fill: #174EA6;\n",
              "    }\n",
              "\n",
              "    .colab-df-buttons div {\n",
              "      margin-bottom: 4px;\n",
              "    }\n",
              "\n",
              "    [theme=dark] .colab-df-convert {\n",
              "      background-color: #3B4455;\n",
              "      fill: #D2E3FC;\n",
              "    }\n",
              "\n",
              "    [theme=dark] .colab-df-convert:hover {\n",
              "      background-color: #434B5C;\n",
              "      box-shadow: 0px 1px 3px 1px rgba(0, 0, 0, 0.15);\n",
              "      filter: drop-shadow(0px 1px 2px rgba(0, 0, 0, 0.3));\n",
              "      fill: #FFFFFF;\n",
              "    }\n",
              "  </style>\n",
              "\n",
              "    <script>\n",
              "      const buttonEl =\n",
              "        document.querySelector('#df-a5d49677-d90d-4e8e-9608-9f24da8dff6e button.colab-df-convert');\n",
              "      buttonEl.style.display =\n",
              "        google.colab.kernel.accessAllowed ? 'block' : 'none';\n",
              "\n",
              "      async function convertToInteractive(key) {\n",
              "        const element = document.querySelector('#df-a5d49677-d90d-4e8e-9608-9f24da8dff6e');\n",
              "        const dataTable =\n",
              "          await google.colab.kernel.invokeFunction('convertToInteractive',\n",
              "                                                    [key], {});\n",
              "        if (!dataTable) return;\n",
              "\n",
              "        const docLinkHtml = 'Like what you see? Visit the ' +\n",
              "          '<a target=\"_blank\" href=https://colab.research.google.com/notebooks/data_table.ipynb>data table notebook</a>'\n",
              "          + ' to learn more about interactive tables.';\n",
              "        element.innerHTML = '';\n",
              "        dataTable['output_type'] = 'display_data';\n",
              "        await google.colab.output.renderOutput(dataTable, element);\n",
              "        const docLink = document.createElement('div');\n",
              "        docLink.innerHTML = docLinkHtml;\n",
              "        element.appendChild(docLink);\n",
              "      }\n",
              "    </script>\n",
              "  </div>\n",
              "\n",
              "\n",
              "<div id=\"df-d87f12d2-b21d-494f-9246-b8199e4c7da4\">\n",
              "  <button class=\"colab-df-quickchart\" onclick=\"quickchart('df-d87f12d2-b21d-494f-9246-b8199e4c7da4')\"\n",
              "            title=\"Suggest charts\"\n",
              "            style=\"display:none;\">\n",
              "\n",
              "<svg xmlns=\"http://www.w3.org/2000/svg\" height=\"24px\"viewBox=\"0 0 24 24\"\n",
              "     width=\"24px\">\n",
              "    <g>\n",
              "        <path d=\"M19 3H5c-1.1 0-2 .9-2 2v14c0 1.1.9 2 2 2h14c1.1 0 2-.9 2-2V5c0-1.1-.9-2-2-2zM9 17H7v-7h2v7zm4 0h-2V7h2v10zm4 0h-2v-4h2v4z\"/>\n",
              "    </g>\n",
              "</svg>\n",
              "  </button>\n",
              "\n",
              "<style>\n",
              "  .colab-df-quickchart {\n",
              "      --bg-color: #E8F0FE;\n",
              "      --fill-color: #1967D2;\n",
              "      --hover-bg-color: #E2EBFA;\n",
              "      --hover-fill-color: #174EA6;\n",
              "      --disabled-fill-color: #AAA;\n",
              "      --disabled-bg-color: #DDD;\n",
              "  }\n",
              "\n",
              "  [theme=dark] .colab-df-quickchart {\n",
              "      --bg-color: #3B4455;\n",
              "      --fill-color: #D2E3FC;\n",
              "      --hover-bg-color: #434B5C;\n",
              "      --hover-fill-color: #FFFFFF;\n",
              "      --disabled-bg-color: #3B4455;\n",
              "      --disabled-fill-color: #666;\n",
              "  }\n",
              "\n",
              "  .colab-df-quickchart {\n",
              "    background-color: var(--bg-color);\n",
              "    border: none;\n",
              "    border-radius: 50%;\n",
              "    cursor: pointer;\n",
              "    display: none;\n",
              "    fill: var(--fill-color);\n",
              "    height: 32px;\n",
              "    padding: 0;\n",
              "    width: 32px;\n",
              "  }\n",
              "\n",
              "  .colab-df-quickchart:hover {\n",
              "    background-color: var(--hover-bg-color);\n",
              "    box-shadow: 0 1px 2px rgba(60, 64, 67, 0.3), 0 1px 3px 1px rgba(60, 64, 67, 0.15);\n",
              "    fill: var(--button-hover-fill-color);\n",
              "  }\n",
              "\n",
              "  .colab-df-quickchart-complete:disabled,\n",
              "  .colab-df-quickchart-complete:disabled:hover {\n",
              "    background-color: var(--disabled-bg-color);\n",
              "    fill: var(--disabled-fill-color);\n",
              "    box-shadow: none;\n",
              "  }\n",
              "\n",
              "  .colab-df-spinner {\n",
              "    border: 2px solid var(--fill-color);\n",
              "    border-color: transparent;\n",
              "    border-bottom-color: var(--fill-color);\n",
              "    animation:\n",
              "      spin 1s steps(1) infinite;\n",
              "  }\n",
              "\n",
              "  @keyframes spin {\n",
              "    0% {\n",
              "      border-color: transparent;\n",
              "      border-bottom-color: var(--fill-color);\n",
              "      border-left-color: var(--fill-color);\n",
              "    }\n",
              "    20% {\n",
              "      border-color: transparent;\n",
              "      border-left-color: var(--fill-color);\n",
              "      border-top-color: var(--fill-color);\n",
              "    }\n",
              "    30% {\n",
              "      border-color: transparent;\n",
              "      border-left-color: var(--fill-color);\n",
              "      border-top-color: var(--fill-color);\n",
              "      border-right-color: var(--fill-color);\n",
              "    }\n",
              "    40% {\n",
              "      border-color: transparent;\n",
              "      border-right-color: var(--fill-color);\n",
              "      border-top-color: var(--fill-color);\n",
              "    }\n",
              "    60% {\n",
              "      border-color: transparent;\n",
              "      border-right-color: var(--fill-color);\n",
              "    }\n",
              "    80% {\n",
              "      border-color: transparent;\n",
              "      border-right-color: var(--fill-color);\n",
              "      border-bottom-color: var(--fill-color);\n",
              "    }\n",
              "    90% {\n",
              "      border-color: transparent;\n",
              "      border-bottom-color: var(--fill-color);\n",
              "    }\n",
              "  }\n",
              "</style>\n",
              "\n",
              "  <script>\n",
              "    async function quickchart(key) {\n",
              "      const quickchartButtonEl =\n",
              "        document.querySelector('#' + key + ' button');\n",
              "      quickchartButtonEl.disabled = true;  // To prevent multiple clicks.\n",
              "      quickchartButtonEl.classList.add('colab-df-spinner');\n",
              "      try {\n",
              "        const charts = await google.colab.kernel.invokeFunction(\n",
              "            'suggestCharts', [key], {});\n",
              "      } catch (error) {\n",
              "        console.error('Error during call to suggestCharts:', error);\n",
              "      }\n",
              "      quickchartButtonEl.classList.remove('colab-df-spinner');\n",
              "      quickchartButtonEl.classList.add('colab-df-quickchart-complete');\n",
              "    }\n",
              "    (() => {\n",
              "      let quickchartButtonEl =\n",
              "        document.querySelector('#df-d87f12d2-b21d-494f-9246-b8199e4c7da4 button');\n",
              "      quickchartButtonEl.style.display =\n",
              "        google.colab.kernel.accessAllowed ? 'block' : 'none';\n",
              "    })();\n",
              "  </script>\n",
              "</div>\n",
              "\n",
              "    </div>\n",
              "  </div>\n"
            ],
            "application/vnd.google.colaboratory.intrinsic+json": {
              "type": "dataframe",
              "variable_name": "data",
              "summary": "{\n  \"name\": \"data\",\n  \"rows\": 2748,\n  \"fields\": [\n    {\n      \"column\": \"text\",\n      \"properties\": {\n        \"dtype\": \"string\",\n        \"num_unique_values\": 2731,\n        \"samples\": [\n          \"This product had a strong rubber/petroleum smell that was unbearable after a while and caused me to return it\",\n          \"I live in the neighborhood so I am disappointed I won't be back here, because it is a convenient location.\",\n          \"Then a few days later the a puff of smoke came out of the phone while in use.\"\n        ],\n        \"semantic_type\": \"\",\n        \"description\": \"\"\n      }\n    },\n    {\n      \"column\": \"sentiment\",\n      \"properties\": {\n        \"dtype\": \"number\",\n        \"std\": 0,\n        \"min\": 0,\n        \"max\": 1,\n        \"num_unique_values\": 2,\n        \"samples\": [\n          1,\n          0\n        ],\n        \"semantic_type\": \"\",\n        \"description\": \"\"\n      }\n    },\n    {\n      \"column\": \"source\",\n      \"properties\": {\n        \"dtype\": \"category\",\n        \"num_unique_values\": 3,\n        \"samples\": [\n          \"imdb\",\n          \"amazon\"\n        ],\n        \"semantic_type\": \"\",\n        \"description\": \"\"\n      }\n    }\n  ]\n}"
            }
          },
          "metadata": {},
          "execution_count": 37
        }
      ]
    },
    {
      "cell_type": "markdown",
      "source": [
        "Let's test the what we've said on the new data"
      ],
      "metadata": {
        "id": "AX70fbLzwGFw"
      }
    },
    {
      "cell_type": "code",
      "source": [
        "data.shape"
      ],
      "metadata": {
        "colab": {
          "base_uri": "https://localhost:8080/"
        },
        "id": "imTILfNKwSnt",
        "outputId": "f5e7753f-461d-435a-9e52-519c5f0e71a9"
      },
      "execution_count": 40,
      "outputs": [
        {
          "output_type": "execute_result",
          "data": {
            "text/plain": [
              "(2748, 3)"
            ]
          },
          "metadata": {},
          "execution_count": 40
        }
      ]
    },
    {
      "cell_type": "code",
      "source": [
        "data.info()"
      ],
      "metadata": {
        "colab": {
          "base_uri": "https://localhost:8080/"
        },
        "id": "Jc6_olYKvznW",
        "outputId": "ad2fbfde-3749-4bbd-fb88-c17aad67005a"
      },
      "execution_count": 38,
      "outputs": [
        {
          "output_type": "stream",
          "name": "stdout",
          "text": [
            "<class 'pandas.core.frame.DataFrame'>\n",
            "Int64Index: 2748 entries, 0 to 999\n",
            "Data columns (total 3 columns):\n",
            " #   Column     Non-Null Count  Dtype \n",
            "---  ------     --------------  ----- \n",
            " 0   text       2748 non-null   object\n",
            " 1   sentiment  2748 non-null   int64 \n",
            " 2   source     2748 non-null   object\n",
            "dtypes: int64(1), object(2)\n",
            "memory usage: 85.9+ KB\n"
          ]
        }
      ]
    },
    {
      "cell_type": "code",
      "source": [
        "data.describe()"
      ],
      "metadata": {
        "colab": {
          "base_uri": "https://localhost:8080/",
          "height": 300
        },
        "id": "7YBNEZkiwCVZ",
        "outputId": "6c03f476-1b27-4627-8e22-cf12c02ed736"
      },
      "execution_count": 39,
      "outputs": [
        {
          "output_type": "execute_result",
          "data": {
            "text/plain": [
              "         sentiment\n",
              "count  2748.000000\n",
              "mean      0.504367\n",
              "std       0.500072\n",
              "min       0.000000\n",
              "25%       0.000000\n",
              "50%       1.000000\n",
              "75%       1.000000\n",
              "max       1.000000"
            ],
            "text/html": [
              "\n",
              "  <div id=\"df-79a4d57c-d68c-4372-aab0-2a3793381d15\" class=\"colab-df-container\">\n",
              "    <div>\n",
              "<style scoped>\n",
              "    .dataframe tbody tr th:only-of-type {\n",
              "        vertical-align: middle;\n",
              "    }\n",
              "\n",
              "    .dataframe tbody tr th {\n",
              "        vertical-align: top;\n",
              "    }\n",
              "\n",
              "    .dataframe thead th {\n",
              "        text-align: right;\n",
              "    }\n",
              "</style>\n",
              "<table border=\"1\" class=\"dataframe\">\n",
              "  <thead>\n",
              "    <tr style=\"text-align: right;\">\n",
              "      <th></th>\n",
              "      <th>sentiment</th>\n",
              "    </tr>\n",
              "  </thead>\n",
              "  <tbody>\n",
              "    <tr>\n",
              "      <th>count</th>\n",
              "      <td>2748.000000</td>\n",
              "    </tr>\n",
              "    <tr>\n",
              "      <th>mean</th>\n",
              "      <td>0.504367</td>\n",
              "    </tr>\n",
              "    <tr>\n",
              "      <th>std</th>\n",
              "      <td>0.500072</td>\n",
              "    </tr>\n",
              "    <tr>\n",
              "      <th>min</th>\n",
              "      <td>0.000000</td>\n",
              "    </tr>\n",
              "    <tr>\n",
              "      <th>25%</th>\n",
              "      <td>0.000000</td>\n",
              "    </tr>\n",
              "    <tr>\n",
              "      <th>50%</th>\n",
              "      <td>1.000000</td>\n",
              "    </tr>\n",
              "    <tr>\n",
              "      <th>75%</th>\n",
              "      <td>1.000000</td>\n",
              "    </tr>\n",
              "    <tr>\n",
              "      <th>max</th>\n",
              "      <td>1.000000</td>\n",
              "    </tr>\n",
              "  </tbody>\n",
              "</table>\n",
              "</div>\n",
              "    <div class=\"colab-df-buttons\">\n",
              "\n",
              "  <div class=\"colab-df-container\">\n",
              "    <button class=\"colab-df-convert\" onclick=\"convertToInteractive('df-79a4d57c-d68c-4372-aab0-2a3793381d15')\"\n",
              "            title=\"Convert this dataframe to an interactive table.\"\n",
              "            style=\"display:none;\">\n",
              "\n",
              "  <svg xmlns=\"http://www.w3.org/2000/svg\" height=\"24px\" viewBox=\"0 -960 960 960\">\n",
              "    <path d=\"M120-120v-720h720v720H120Zm60-500h600v-160H180v160Zm220 220h160v-160H400v160Zm0 220h160v-160H400v160ZM180-400h160v-160H180v160Zm440 0h160v-160H620v160ZM180-180h160v-160H180v160Zm440 0h160v-160H620v160Z\"/>\n",
              "  </svg>\n",
              "    </button>\n",
              "\n",
              "  <style>\n",
              "    .colab-df-container {\n",
              "      display:flex;\n",
              "      gap: 12px;\n",
              "    }\n",
              "\n",
              "    .colab-df-convert {\n",
              "      background-color: #E8F0FE;\n",
              "      border: none;\n",
              "      border-radius: 50%;\n",
              "      cursor: pointer;\n",
              "      display: none;\n",
              "      fill: #1967D2;\n",
              "      height: 32px;\n",
              "      padding: 0 0 0 0;\n",
              "      width: 32px;\n",
              "    }\n",
              "\n",
              "    .colab-df-convert:hover {\n",
              "      background-color: #E2EBFA;\n",
              "      box-shadow: 0px 1px 2px rgba(60, 64, 67, 0.3), 0px 1px 3px 1px rgba(60, 64, 67, 0.15);\n",
              "      fill: #174EA6;\n",
              "    }\n",
              "\n",
              "    .colab-df-buttons div {\n",
              "      margin-bottom: 4px;\n",
              "    }\n",
              "\n",
              "    [theme=dark] .colab-df-convert {\n",
              "      background-color: #3B4455;\n",
              "      fill: #D2E3FC;\n",
              "    }\n",
              "\n",
              "    [theme=dark] .colab-df-convert:hover {\n",
              "      background-color: #434B5C;\n",
              "      box-shadow: 0px 1px 3px 1px rgba(0, 0, 0, 0.15);\n",
              "      filter: drop-shadow(0px 1px 2px rgba(0, 0, 0, 0.3));\n",
              "      fill: #FFFFFF;\n",
              "    }\n",
              "  </style>\n",
              "\n",
              "    <script>\n",
              "      const buttonEl =\n",
              "        document.querySelector('#df-79a4d57c-d68c-4372-aab0-2a3793381d15 button.colab-df-convert');\n",
              "      buttonEl.style.display =\n",
              "        google.colab.kernel.accessAllowed ? 'block' : 'none';\n",
              "\n",
              "      async function convertToInteractive(key) {\n",
              "        const element = document.querySelector('#df-79a4d57c-d68c-4372-aab0-2a3793381d15');\n",
              "        const dataTable =\n",
              "          await google.colab.kernel.invokeFunction('convertToInteractive',\n",
              "                                                    [key], {});\n",
              "        if (!dataTable) return;\n",
              "\n",
              "        const docLinkHtml = 'Like what you see? Visit the ' +\n",
              "          '<a target=\"_blank\" href=https://colab.research.google.com/notebooks/data_table.ipynb>data table notebook</a>'\n",
              "          + ' to learn more about interactive tables.';\n",
              "        element.innerHTML = '';\n",
              "        dataTable['output_type'] = 'display_data';\n",
              "        await google.colab.output.renderOutput(dataTable, element);\n",
              "        const docLink = document.createElement('div');\n",
              "        docLink.innerHTML = docLinkHtml;\n",
              "        element.appendChild(docLink);\n",
              "      }\n",
              "    </script>\n",
              "  </div>\n",
              "\n",
              "\n",
              "<div id=\"df-3f0ffd8b-803a-4c74-ac1f-864391337d79\">\n",
              "  <button class=\"colab-df-quickchart\" onclick=\"quickchart('df-3f0ffd8b-803a-4c74-ac1f-864391337d79')\"\n",
              "            title=\"Suggest charts\"\n",
              "            style=\"display:none;\">\n",
              "\n",
              "<svg xmlns=\"http://www.w3.org/2000/svg\" height=\"24px\"viewBox=\"0 0 24 24\"\n",
              "     width=\"24px\">\n",
              "    <g>\n",
              "        <path d=\"M19 3H5c-1.1 0-2 .9-2 2v14c0 1.1.9 2 2 2h14c1.1 0 2-.9 2-2V5c0-1.1-.9-2-2-2zM9 17H7v-7h2v7zm4 0h-2V7h2v10zm4 0h-2v-4h2v4z\"/>\n",
              "    </g>\n",
              "</svg>\n",
              "  </button>\n",
              "\n",
              "<style>\n",
              "  .colab-df-quickchart {\n",
              "      --bg-color: #E8F0FE;\n",
              "      --fill-color: #1967D2;\n",
              "      --hover-bg-color: #E2EBFA;\n",
              "      --hover-fill-color: #174EA6;\n",
              "      --disabled-fill-color: #AAA;\n",
              "      --disabled-bg-color: #DDD;\n",
              "  }\n",
              "\n",
              "  [theme=dark] .colab-df-quickchart {\n",
              "      --bg-color: #3B4455;\n",
              "      --fill-color: #D2E3FC;\n",
              "      --hover-bg-color: #434B5C;\n",
              "      --hover-fill-color: #FFFFFF;\n",
              "      --disabled-bg-color: #3B4455;\n",
              "      --disabled-fill-color: #666;\n",
              "  }\n",
              "\n",
              "  .colab-df-quickchart {\n",
              "    background-color: var(--bg-color);\n",
              "    border: none;\n",
              "    border-radius: 50%;\n",
              "    cursor: pointer;\n",
              "    display: none;\n",
              "    fill: var(--fill-color);\n",
              "    height: 32px;\n",
              "    padding: 0;\n",
              "    width: 32px;\n",
              "  }\n",
              "\n",
              "  .colab-df-quickchart:hover {\n",
              "    background-color: var(--hover-bg-color);\n",
              "    box-shadow: 0 1px 2px rgba(60, 64, 67, 0.3), 0 1px 3px 1px rgba(60, 64, 67, 0.15);\n",
              "    fill: var(--button-hover-fill-color);\n",
              "  }\n",
              "\n",
              "  .colab-df-quickchart-complete:disabled,\n",
              "  .colab-df-quickchart-complete:disabled:hover {\n",
              "    background-color: var(--disabled-bg-color);\n",
              "    fill: var(--disabled-fill-color);\n",
              "    box-shadow: none;\n",
              "  }\n",
              "\n",
              "  .colab-df-spinner {\n",
              "    border: 2px solid var(--fill-color);\n",
              "    border-color: transparent;\n",
              "    border-bottom-color: var(--fill-color);\n",
              "    animation:\n",
              "      spin 1s steps(1) infinite;\n",
              "  }\n",
              "\n",
              "  @keyframes spin {\n",
              "    0% {\n",
              "      border-color: transparent;\n",
              "      border-bottom-color: var(--fill-color);\n",
              "      border-left-color: var(--fill-color);\n",
              "    }\n",
              "    20% {\n",
              "      border-color: transparent;\n",
              "      border-left-color: var(--fill-color);\n",
              "      border-top-color: var(--fill-color);\n",
              "    }\n",
              "    30% {\n",
              "      border-color: transparent;\n",
              "      border-left-color: var(--fill-color);\n",
              "      border-top-color: var(--fill-color);\n",
              "      border-right-color: var(--fill-color);\n",
              "    }\n",
              "    40% {\n",
              "      border-color: transparent;\n",
              "      border-right-color: var(--fill-color);\n",
              "      border-top-color: var(--fill-color);\n",
              "    }\n",
              "    60% {\n",
              "      border-color: transparent;\n",
              "      border-right-color: var(--fill-color);\n",
              "    }\n",
              "    80% {\n",
              "      border-color: transparent;\n",
              "      border-right-color: var(--fill-color);\n",
              "      border-bottom-color: var(--fill-color);\n",
              "    }\n",
              "    90% {\n",
              "      border-color: transparent;\n",
              "      border-bottom-color: var(--fill-color);\n",
              "    }\n",
              "  }\n",
              "</style>\n",
              "\n",
              "  <script>\n",
              "    async function quickchart(key) {\n",
              "      const quickchartButtonEl =\n",
              "        document.querySelector('#' + key + ' button');\n",
              "      quickchartButtonEl.disabled = true;  // To prevent multiple clicks.\n",
              "      quickchartButtonEl.classList.add('colab-df-spinner');\n",
              "      try {\n",
              "        const charts = await google.colab.kernel.invokeFunction(\n",
              "            'suggestCharts', [key], {});\n",
              "      } catch (error) {\n",
              "        console.error('Error during call to suggestCharts:', error);\n",
              "      }\n",
              "      quickchartButtonEl.classList.remove('colab-df-spinner');\n",
              "      quickchartButtonEl.classList.add('colab-df-quickchart-complete');\n",
              "    }\n",
              "    (() => {\n",
              "      let quickchartButtonEl =\n",
              "        document.querySelector('#df-3f0ffd8b-803a-4c74-ac1f-864391337d79 button');\n",
              "      quickchartButtonEl.style.display =\n",
              "        google.colab.kernel.accessAllowed ? 'block' : 'none';\n",
              "    })();\n",
              "  </script>\n",
              "</div>\n",
              "\n",
              "    </div>\n",
              "  </div>\n"
            ],
            "application/vnd.google.colaboratory.intrinsic+json": {
              "type": "dataframe",
              "summary": "{\n  \"name\": \"data\",\n  \"rows\": 8,\n  \"fields\": [\n    {\n      \"column\": \"sentiment\",\n      \"properties\": {\n        \"dtype\": \"number\",\n        \"std\": 971.3625518975629,\n        \"min\": 0.0,\n        \"max\": 2748.0,\n        \"num_unique_values\": 5,\n        \"samples\": [\n          0.5043668122270742,\n          1.0,\n          0.500071927208448\n        ],\n        \"semantic_type\": \"\",\n        \"description\": \"\"\n      }\n    }\n  ]\n}"
            }
          },
          "metadata": {},
          "execution_count": 39
        }
      ]
    },
    {
      "cell_type": "markdown",
      "source": [
        "Visualizations: This step will encourage readers to gain more insights frpm the data!"
      ],
      "metadata": {
        "id": "wTfd0nUfvuct"
      }
    },
    {
      "cell_type": "code",
      "source": [
        "data['source'].value_counts().plot(kind='bar')"
      ],
      "metadata": {
        "colab": {
          "base_uri": "https://localhost:8080/",
          "height": 488
        },
        "id": "rEX3IJLhvM1f",
        "outputId": "6b22412f-f2fb-4f04-fab9-93f8b7144e13"
      },
      "execution_count": 60,
      "outputs": [
        {
          "output_type": "execute_result",
          "data": {
            "text/plain": [
              "<Axes: >"
            ]
          },
          "metadata": {},
          "execution_count": 60
        },
        {
          "output_type": "display_data",
          "data": {
            "text/plain": [
              "<Figure size 640x480 with 1 Axes>"
            ],
            "image/png": "[encoded data removed]"
          },
          "metadata": {}
        }
      ]
    },
    {
      "cell_type": "markdown",
      "source": [
        "Let's see this with a more representative way!"
      ],
      "metadata": {
        "id": "A4K52WB_xe3Q"
      }
    },
    {
      "cell_type": "code",
      "source": [
        "data['source'].value_counts().plot(kind='pie',\n",
        "                                   autopct='%1.0f%%',\n",
        "                                   shadow=False,\n",
        "                                   pctdistance=0.85,\n",
        "                                   explode = (0.1,0.1,0.1))"
      ],
      "metadata": {
        "colab": {
          "base_uri": "https://localhost:8080/",
          "height": 423
        },
        "id": "ILaHyS5cwW02",
        "outputId": "529cd7ea-aaec-4d97-aea9-949c89928796"
      },
      "execution_count": 50,
      "outputs": [
        {
          "output_type": "execute_result",
          "data": {
            "text/plain": [
              "<Axes: ylabel='source'>"
            ]
          },
          "metadata": {},
          "execution_count": 50
        },
        {
          "output_type": "display_data",
          "data": {
            "text/plain": [
              "<Figure size 640x480 with 1 Axes>"
            ],
            "image/png": "[encoded data removed]"
          },
          "metadata": {}
        }
      ]
    },
    {
      "cell_type": "code",
      "source": [
        "data['sentiment'].value_counts().plot(kind='pie',\n",
        "                                   autopct='%1.0f%%',\n",
        "                                   shadow=False,\n",
        "                                  colors = ['#5cb696','#e4565c'],\n",
        "                                   pctdistance=0.80,\n",
        "                                   explode = (0.1, 0.1))"
      ],
      "metadata": {
        "colab": {
          "base_uri": "https://localhost:8080/",
          "height": 423
        },
        "id": "nFUmQOnnxkHC",
        "outputId": "d365f560-f5e7-47dd-a36f-748384d5baa4"
      },
      "execution_count": 56,
      "outputs": [
        {
          "output_type": "execute_result",
          "data": {
            "text/plain": [
              "<Axes: ylabel='sentiment'>"
            ]
          },
          "metadata": {},
          "execution_count": 56
        },
        {
          "output_type": "display_data",
          "data": {
            "text/plain": [
              "<Figure size 640x480 with 1 Axes>"
            ],
            "image/png": "[encoded data removed]"
          },
          "metadata": {}
        }
      ]
    },
    {
      "cell_type": "markdown",
      "source": [
        "Seems like we've got a ballanced data\n",
        "\n",
        "## Preprocessing\n",
        "\n",
        "Like any NLP project we have to find a way to represent words, create a vocabulary and words embeddings for better results. In addition, we'll get to divide data into train and test split."
      ],
      "metadata": {
        "id": "DfSZbdYKynlk"
      }
    },
    {
      "cell_type": "code",
      "source": [
        "sentences = data['text'].values\n",
        "labels = data['sentiment'].values\n",
        "sentences_train, sentences_test, train_labels, test_labels = train_test_split(sentences,\n",
        "                                                                              labels,\n",
        "                                                                               test_size=.25,\n",
        "                                                                                shuffle=True)"
      ],
      "metadata": {
        "id": "INH7tTNvyBQM"
      },
      "execution_count": 90,
      "outputs": []
    },
    {
      "cell_type": "markdown",
      "source": [
        "The following code will create a vocabulary and encodes sentences."
      ],
      "metadata": {
        "id": "ZYV5mC_k52mo"
      }
    },
    {
      "cell_type": "code",
      "source": [
        "vectorizer = CountVectorizer()\n",
        "vectorizer.fit(sentences_train)\n",
        "X_train = vectorizer.transform(sentences_train)\n",
        "X_test = vectorizer.transform(sentences_test)"
      ],
      "metadata": {
        "id": "qHgEuc8k1iCb"
      },
      "execution_count": 91,
      "outputs": []
    },
    {
      "cell_type": "code",
      "source": [
        "print(X_train)"
      ],
      "metadata": {
        "colab": {
          "base_uri": "https://localhost:8080/"
        },
        "id": "pJ7VXjqL2jso",
        "outputId": "2d965c36-a877-4ef3-d5e0-9a8a347638fa"
      },
      "execution_count": 92,
      "outputs": [
        {
          "output_type": "stream",
          "name": "stdout",
          "text": [
            "  (0, 1543)\t1\n",
            "  (0, 1681)\t3\n",
            "  (0, 2912)\t1\n",
            "  (0, 3354)\t1\n",
            "  (0, 4154)\t2\n",
            "  (0, 4194)\t1\n",
            "  (1, 162)\t1\n",
            "  (1, 305)\t1\n",
            "  (1, 351)\t1\n",
            "  (1, 944)\t1\n",
            "  (1, 1024)\t1\n",
            "  (1, 1379)\t1\n",
            "  (1, 1767)\t1\n",
            "  (1, 1883)\t1\n",
            "  (1, 2034)\t1\n",
            "  (1, 2250)\t1\n",
            "  (1, 2505)\t1\n",
            "  (1, 3354)\t1\n",
            "  (1, 3736)\t1\n",
            "  (1, 3864)\t1\n",
            "  (1, 3880)\t1\n",
            "  (1, 4245)\t1\n",
            "  (1, 4281)\t1\n",
            "  (2, 152)\t1\n",
            "  (2, 222)\t1\n",
            "  :\t:\n",
            "  (2057, 3127)\t1\n",
            "  (2057, 3798)\t1\n",
            "  (2057, 3809)\t1\n",
            "  (2057, 4196)\t1\n",
            "  (2058, 174)\t1\n",
            "  (2058, 1134)\t1\n",
            "  (2058, 1300)\t1\n",
            "  (2058, 2034)\t1\n",
            "  (2058, 2210)\t1\n",
            "  (2058, 2268)\t1\n",
            "  (2058, 2573)\t1\n",
            "  (2058, 2622)\t1\n",
            "  (2058, 3400)\t1\n",
            "  (2058, 3960)\t1\n",
            "  (2059, 65)\t1\n",
            "  (2059, 174)\t1\n",
            "  (2059, 2029)\t1\n",
            "  (2059, 2564)\t1\n",
            "  (2059, 2605)\t1\n",
            "  (2059, 3795)\t1\n",
            "  (2059, 3876)\t1\n",
            "  (2060, 652)\t1\n",
            "  (2060, 999)\t1\n",
            "  (2060, 2661)\t1\n",
            "  (2060, 4277)\t1\n"
          ]
        }
      ]
    },
    {
      "cell_type": "markdown",
      "source": [
        "## Models Building\n",
        "\n",
        "In the history of NLP, the LSTM model has been resistant for a long time making of it a powerful model and so it's intuitive approach to do is to use it since first it's an Recurrent Neural Network. But before that let's test first a simpler machine learning model let's use Logositic Regression as an example."
      ],
      "metadata": {
        "id": "9L89NWjs8KNU"
      }
    },
    {
      "cell_type": "code",
      "source": [
        "classifier = LogisticRegression()\n",
        "classifier.fit(X_train, train_labels)"
      ],
      "metadata": {
        "colab": {
          "base_uri": "https://localhost:8080/",
          "height": 74
        },
        "id": "HJWGA4lE5nbi",
        "outputId": "b40c5582-0834-4de1-8386-49ed2eea424c"
      },
      "execution_count": 93,
      "outputs": [
        {
          "output_type": "execute_result",
          "data": {
            "text/plain": [
              "LogisticRegression()"
            ],
            "text/html": [
              "<style>#sk-container-id-5 {color: black;background-color: white;}#sk-container-id-5 pre{padding: 0;}#sk-container-id-5 div.sk-toggleable {background-color: white;}#sk-container-id-5 label.sk-toggleable__label {cursor: pointer;display: block;width: 100%;margin-bottom: 0;padding: 0.3em;box-sizing: border-box;text-align: center;}#sk-container-id-5 label.sk-toggleable__label-arrow:before {content: \"▸\";float: left;margin-right: 0.25em;color: #696969;}#sk-container-id-5 label.sk-toggleable__label-arrow:hover:before {color: black;}#sk-container-id-5 div.sk-estimator:hover label.sk-toggleable__label-arrow:before {color: black;}#sk-container-id-5 div.sk-toggleable__content {max-height: 0;max-width: 0;overflow: hidden;text-align: left;background-color: #f0f8ff;}#sk-container-id-5 div.sk-toggleable__content pre {margin: 0.2em;color: black;border-radius: 0.25em;background-color: #f0f8ff;}#sk-container-id-5 input.sk-toggleable__control:checked~div.sk-toggleable__content {max-height: 200px;max-width: 100%;overflow: auto;}#sk-container-id-5 input.sk-toggleable__control:checked~label.sk-toggleable__label-arrow:before {content: \"▾\";}#sk-container-id-5 div.sk-estimator input.sk-toggleable__control:checked~label.sk-toggleable__label {background-color: #d4ebff;}#sk-container-id-5 div.sk-label input.sk-toggleable__control:checked~label.sk-toggleable__label {background-color: #d4ebff;}#sk-container-id-5 input.sk-hidden--visually {border: 0;clip: rect(1px 1px 1px 1px);clip: rect(1px, 1px, 1px, 1px);height: 1px;margin: -1px;overflow: hidden;padding: 0;position: absolute;width: 1px;}#sk-container-id-5 div.sk-estimator {font-family: monospace;background-color: #f0f8ff;border: 1px dotted black;border-radius: 0.25em;box-sizing: border-box;margin-bottom: 0.5em;}#sk-container-id-5 div.sk-estimator:hover {background-color: #d4ebff;}#sk-container-id-5 div.sk-parallel-item::after {content: \"\";width: 100%;border-bottom: 1px solid gray;flex-grow: 1;}#sk-container-id-5 div.sk-label:hover label.sk-toggleable__label {background-color: #d4ebff;}#sk-container-id-5 div.sk-serial::before {content: \"\";position: absolute;border-left: 1px solid gray;box-sizing: border-box;top: 0;bottom: 0;left: 50%;z-index: 0;}#sk-container-id-5 div.sk-serial {display: flex;flex-direction: column;align-items: center;background-color: white;padding-right: 0.2em;padding-left: 0.2em;position: relative;}#sk-container-id-5 div.sk-item {position: relative;z-index: 1;}#sk-container-id-5 div.sk-parallel {display: flex;align-items: stretch;justify-content: center;background-color: white;position: relative;}#sk-container-id-5 div.sk-item::before, #sk-container-id-5 div.sk-parallel-item::before {content: \"\";position: absolute;border-left: 1px solid gray;box-sizing: border-box;top: 0;bottom: 0;left: 50%;z-index: -1;}#sk-container-id-5 div.sk-parallel-item {display: flex;flex-direction: column;z-index: 1;position: relative;background-color: white;}#sk-container-id-5 div.sk-parallel-item:first-child::after {align-self: flex-end;width: 50%;}#sk-container-id-5 div.sk-parallel-item:last-child::after {align-self: flex-start;width: 50%;}#sk-container-id-5 div.sk-parallel-item:only-child::after {width: 0;}#sk-container-id-5 div.sk-dashed-wrapped {border: 1px dashed gray;margin: 0 0.4em 0.5em 0.4em;box-sizing: border-box;padding-bottom: 0.4em;background-color: white;}#sk-container-id-5 div.sk-label label {font-family: monospace;font-weight: bold;display: inline-block;line-height: 1.2em;}#sk-container-id-5 div.sk-label-container {text-align: center;}#sk-container-id-5 div.sk-container {/* jupyter's `normalize.less` sets `[hidden] { display: none; }` but bootstrap.min.css set `[hidden] { display: none !important; }` so we also need the `!important` here to be able to override the default hidden behavior on the sphinx rendered scikit-learn.org. See: https://github.com/scikit-learn/scikit-learn/issues/21755 */display: inline-block !important;position: relative;}#sk-container-id-5 div.sk-text-repr-fallback {display: none;}</style><div id=\"sk-container-id-5\" class=\"sk-top-container\"><div class=\"sk-text-repr-fallback\"><pre>LogisticRegression()</pre><b>In a Jupyter environment, please rerun this cell to show the HTML representation or trust the notebook. <br />On GitHub, the HTML representation is unable to render, please try loading this page with nbviewer.org.</b></div><div class=\"sk-container\" hidden><div class=\"sk-item\"><div class=\"sk-estimator sk-toggleable\"><input class=\"sk-toggleable__control sk-hidden--visually\" id=\"sk-estimator-id-5\" type=\"checkbox\" checked><label for=\"sk-estimator-id-5\" class=\"sk-toggleable__label sk-toggleable__label-arrow\">LogisticRegression</label><div class=\"sk-toggleable__content\"><pre>LogisticRegression()</pre></div></div></div></div></div>"
            ]
          },
          "metadata": {},
          "execution_count": 93
        }
      ]
    },
    {
      "cell_type": "code",
      "source": [
        "accuracy = classifier.score(X_test, test_labels)\n",
        "accuracy"
      ],
      "metadata": {
        "colab": {
          "base_uri": "https://localhost:8080/"
        },
        "id": "G-DzCzNFDGHE",
        "outputId": "215937e6-1f65-48e8-de23-1494e6f7dcaa"
      },
      "execution_count": 94,
      "outputs": [
        {
          "output_type": "execute_result",
          "data": {
            "text/plain": [
              "0.8078602620087336"
            ]
          },
          "metadata": {},
          "execution_count": 94
        }
      ]
    },
    {
      "cell_type": "markdown",
      "source": [
        "Let's use now an LSTM network, we'll use a bidirectional LSTM since in a sentence future words can influence past words.\n",
        "\n",
        "for more infos about the LSTM and how it can be useful against the Vanishing & Exploding Gradients here's my medium article in which where i delve into this specific aspect:\n",
        "\n",
        "* https://medium.com/@oussamahamdani1718/training-rnns-how-math-saved-the-day-50ee3906bfbf\n",
        "\n",
        "Here's a simple illustration to gain some intuition about the \"Bidirectional RNN\":\n",
        "\n",
        " ![image.png](data:image/png;base64,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)"
      ],
      "metadata": {
        "id": "lkd1xuCSEvkE"
      }
    },
    {
      "cell_type": "markdown",
      "source": [
        "In this section we'll introduce the Dev set also since Deep learning models with their advanced computations can lead to overfitting!"
      ],
      "metadata": {
        "id": "jdWk-CPjHMWu"
      }
    },
    {
      "cell_type": "code",
      "source": [
        "sentences_train, sentences_val, y_train, y_val = train_test_split(sentences, labels, test_size=0.2)\n",
        "sentences_train, sentences_test, y_train, y_test = train_test_split(sentences_train, y_train, test_size=0.2)"
      ],
      "metadata": {
        "id": "qKVDtOcCDVbn"
      },
      "execution_count": 144,
      "outputs": []
    },
    {
      "cell_type": "markdown",
      "source": [
        "In this section we'll use the word embeddings in order to get good results, word embedding try to capture not only a word representation but also finds a Vector space in which similar words in meaning terms have close representation!"
      ],
      "metadata": {
        "id": "HDM71fK7RK94"
      }
    },
    {
      "cell_type": "code",
      "source": [
        "tokenizer = Tokenizer(num_words=5000)\n",
        "tokenizer.fit_on_texts(sentences_train)"
      ],
      "metadata": {
        "id": "U4yvR0UvHiay"
      },
      "execution_count": 145,
      "outputs": []
    },
    {
      "cell_type": "code",
      "source": [
        "X_train = tokenizer.texts_to_sequences(sentences_train)\n",
        "X_test = tokenizer.texts_to_sequences(sentences_test)\n",
        "X_val = tokenizer.texts_to_sequences(sentences_val)\n",
        "vocab_size = len(tokenizer.word_index) + 1\n",
        "embedding_dim = 100\n",
        "maxlen = 100\n",
        "X_train = pad_sequences(X_train, padding='post', maxlen=maxlen)\n",
        "X_test = pad_sequences(X_test, padding='post', maxlen=maxlen)\n",
        "X_val = pad_sequences(X_val, padding='post', maxlen=maxlen)"
      ],
      "metadata": {
        "id": "tjvoH_lsN7AC"
      },
      "execution_count": 146,
      "outputs": []
    },
    {
      "cell_type": "code",
      "source": [
        "LSTM_model = Sequential()\n",
        "LSTM_model.add(layers.Embedding(vocab_size, embedding_dim, input_length=maxlen))\n",
        "LSTM_model.add(Bidirectional(LSTM(50)))\n",
        "LSTM_model.add(Dense(12, activation='tanh'))\n",
        "LSTM_model.add(Dense(1, activation='sigmoid'))"
      ],
      "metadata": {
        "id": "TfBnvCkIHt7p"
      },
      "execution_count": 147,
      "outputs": []
    },
    {
      "cell_type": "code",
      "source": [
        "LSTM_model.compile(loss='binary_crossentropy',\n",
        "                    optimizer=tf.keras.optimizers.Adam(learning_rate=0.001, beta_1=0.9, beta_2=0.999, epsilon=1e-08),\n",
        "                     metrics = [\"accuracy\"]\n",
        "                   )"
      ],
      "metadata": {
        "id": "Knpau7R7PTJf"
      },
      "execution_count": 148,
      "outputs": []
    },
    {
      "cell_type": "code",
      "source": [
        "LSTM_model.summary()"
      ],
      "metadata": {
        "colab": {
          "base_uri": "https://localhost:8080/"
        },
        "id": "Sgb2u8KyQB9r",
        "outputId": "3cf289df-6ceb-4156-df81-a9bb9003f521"
      },
      "execution_count": 149,
      "outputs": [
        {
          "output_type": "stream",
          "name": "stdout",
          "text": [
            "Model: \"sequential_8\"\n",
            "_________________________________________________________________\n",
            " Layer (type)                Output Shape              Param #   \n",
            "=================================================================\n",
            " embedding_7 (Embedding)     (None, 100, 100)          414800    \n",
            "                                                                 \n",
            " bidirectional_7 (Bidirecti  (None, 100)               60400     \n",
            " onal)                                                           \n",
            "                                                                 \n",
            " dense_13 (Dense)            (None, 12)                1212      \n",
            "                                                                 \n",
            " dense_14 (Dense)            (None, 1)                 13        \n",
            "                                                                 \n",
            "=================================================================\n",
            "Total params: 476425 (1.82 MB)\n",
            "Trainable params: 476425 (1.82 MB)\n",
            "Non-trainable params: 0 (0.00 Byte)\n",
            "_________________________________________________________________\n"
          ]
        }
      ]
    },
    {
      "cell_type": "code",
      "source": [
        "num_epochs = 20\n",
        "history = LSTM_model.fit(X_train,\n",
        "                          y_train,\n",
        "                           epochs=num_epochs,\n",
        "                            verbose=True,\n",
        "                             batch_size=64,\n",
        "                             validation_data=(X_val, y_val)\n",
        "                            )"
      ],
      "metadata": {
        "colab": {
          "base_uri": "https://localhost:8080/"
        },
        "id": "CLg_1TbJQHEX",
        "outputId": "e08579c3-79c4-452a-c7e3-995325045c41"
      },
      "execution_count": 150,
      "outputs": [
        {
          "output_type": "stream",
          "name": "stdout",
          "text": [
            "Epoch 1/20\n",
            "28/28 [==============================] - 12s 255ms/step - loss: 0.6890 - accuracy: 0.5353 - val_loss: 0.6802 - val_accuracy: 0.5091\n",
            "Epoch 2/20\n",
            "28/28 [==============================] - 4s 154ms/step - loss: 0.5715 - accuracy: 0.7560 - val_loss: 0.5165 - val_accuracy: 0.7545\n",
            "Epoch 3/20\n",
            "28/28 [==============================] - 4s 151ms/step - loss: 0.2818 - accuracy: 0.9147 - val_loss: 0.4841 - val_accuracy: 0.8091\n",
            "Epoch 4/20\n",
            "28/28 [==============================] - 6s 207ms/step - loss: 0.1257 - accuracy: 0.9716 - val_loss: 0.5159 - val_accuracy: 0.8109\n",
            "Epoch 5/20\n",
            "28/28 [==============================] - 4s 142ms/step - loss: 0.0696 - accuracy: 0.9898 - val_loss: 0.5749 - val_accuracy: 0.7982\n",
            "Epoch 6/20\n",
            "28/28 [==============================] - 4s 151ms/step - loss: 0.0423 - accuracy: 0.9949 - val_loss: 0.6401 - val_accuracy: 0.7873\n",
            "Epoch 7/20\n",
            "28/28 [==============================] - 6s 211ms/step - loss: 0.0254 - accuracy: 0.9977 - val_loss: 0.7314 - val_accuracy: 0.7673\n",
            "Epoch 8/20\n",
            "28/28 [==============================] - 4s 141ms/step - loss: 0.0230 - accuracy: 0.9977 - val_loss: 0.7095 - val_accuracy: 0.7873\n",
            "Epoch 9/20\n",
            "28/28 [==============================] - 4s 144ms/step - loss: 0.0164 - accuracy: 0.9983 - val_loss: 0.7942 - val_accuracy: 0.7818\n",
            "Epoch 10/20\n",
            "28/28 [==============================] - 6s 213ms/step - loss: 0.0143 - accuracy: 0.9989 - val_loss: 0.8227 - val_accuracy: 0.7891\n",
            "Epoch 11/20\n",
            "28/28 [==============================] - 4s 145ms/step - loss: 0.0127 - accuracy: 0.9989 - val_loss: 0.8524 - val_accuracy: 0.7782\n",
            "Epoch 12/20\n",
            "28/28 [==============================] - 4s 153ms/step - loss: 0.0113 - accuracy: 0.9989 - val_loss: 0.8744 - val_accuracy: 0.7782\n",
            "Epoch 13/20\n",
            "28/28 [==============================] - 6s 205ms/step - loss: 0.0085 - accuracy: 0.9994 - val_loss: 0.8848 - val_accuracy: 0.7745\n",
            "Epoch 14/20\n",
            "28/28 [==============================] - 4s 142ms/step - loss: 0.0079 - accuracy: 0.9994 - val_loss: 0.9257 - val_accuracy: 0.7764\n",
            "Epoch 15/20\n",
            "28/28 [==============================] - 4s 140ms/step - loss: 0.0075 - accuracy: 0.9994 - val_loss: 0.9504 - val_accuracy: 0.7764\n",
            "Epoch 16/20\n",
            "28/28 [==============================] - 5s 183ms/step - loss: 0.0071 - accuracy: 0.9994 - val_loss: 0.9738 - val_accuracy: 0.7764\n",
            "Epoch 17/20\n",
            "28/28 [==============================] - 5s 176ms/step - loss: 0.0068 - accuracy: 0.9994 - val_loss: 0.9908 - val_accuracy: 0.7745\n",
            "Epoch 18/20\n",
            "28/28 [==============================] - 4s 156ms/step - loss: 0.0066 - accuracy: 0.9994 - val_loss: 1.0110 - val_accuracy: 0.7727\n",
            "Epoch 19/20\n",
            "28/28 [==============================] - 5s 195ms/step - loss: 0.0064 - accuracy: 0.9994 - val_loss: 1.0296 - val_accuracy: 0.7745\n",
            "Epoch 20/20\n",
            "28/28 [==============================] - 5s 166ms/step - loss: 0.0062 - accuracy: 0.9994 - val_loss: 1.0807 - val_accuracy: 0.7691\n"
          ]
        }
      ]
    },
    {
      "cell_type": "code",
      "source": [
        "loss, accuracy = LSTM_model.evaluate(X_train, y_train, verbose=False)\n",
        "print(\"Accuray of training data {:.2f}%\".format(accuracy*100))\n",
        "loss, accuracy = LSTM_model.evaluate(X_test, y_test, verbose=False)\n",
        "print(\"Accuray of test data: {:.2f} %\".format(accuracy*100))"
      ],
      "metadata": {
        "colab": {
          "base_uri": "https://localhost:8080/"
        },
        "id": "YLGASw7bQ_fw",
        "outputId": "45f7c0de-32e2-4c56-dd5d-09934e6f5826"
      },
      "execution_count": 151,
      "outputs": [
        {
          "output_type": "stream",
          "name": "stdout",
          "text": [
            "Accuray of training data 99.94%\n",
            "Accuray of test data: 84.09 %\n"
          ]
        }
      ]
    },
    {
      "cell_type": "markdown",
      "source": [
        "You see! by selectin the right model and some hyperparameter tuning we have made our model capable of generalize to more unseen cases."
      ],
      "metadata": {
        "id": "il3ZGJ5VYBQY"
      }
    }
  ]
}